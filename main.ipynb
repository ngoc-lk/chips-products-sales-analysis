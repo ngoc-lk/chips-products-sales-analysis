{
 "cells": [
  {
   "cell_type": "markdown",
   "metadata": {},
   "source": [
    "**Import required libraries**"
   ]
  },
  {
   "cell_type": "code",
   "execution_count": 89,
   "metadata": {},
   "outputs": [],
   "source": [
    "import pandas as pd\n",
    "import numpy as np\n",
    "import seaborn as sns\n",
    "import matplotlib.pyplot as plt\n",
    "import matplotlib.dates as mdates\n",
    "import openpyxl\n",
    "import re\n",
    "import plotly.express as px\n",
    "import plotly.graph_objects as go\n",
    "from collections import Counter\n",
    "from wordcloud import WordCloud"
   ]
  },
  {
   "cell_type": "code",
   "execution_count": 53,
   "metadata": {},
   "outputs": [
    {
     "name": "stdout",
     "output_type": "stream",
     "text": [
      "Note: you may need to restart the kernel to use updated packages.\n"
     ]
    },
    {
     "name": "stderr",
     "output_type": "stream",
     "text": [
      "ERROR: Could not find a version that satisfies the requirement plotly.graph_objects (from versions: none)\n",
      "ERROR: No matching distribution found for plotly.graph_objects\n"
     ]
    }
   ],
   "source": [
    "%pip install plotly.graph_objects"
   ]
  },
  {
   "cell_type": "markdown",
   "metadata": {},
   "source": [
    "**Exploratory Data Analysis**"
   ]
  },
  {
   "cell_type": "code",
   "execution_count": 54,
   "metadata": {},
   "outputs": [],
   "source": [
    "transaction_data = pd.read_excel(\"QVI_transaction_data.xlsx\")\n",
    "customer_data = pd.read_csv(\"QVI_purchase_behaviour.csv\")"
   ]
  },
  {
   "cell_type": "code",
   "execution_count": 55,
   "metadata": {},
   "outputs": [
    {
     "data": {
      "text/html": [
       "<div>\n",
       "<style scoped>\n",
       "    .dataframe tbody tr th:only-of-type {\n",
       "        vertical-align: middle;\n",
       "    }\n",
       "\n",
       "    .dataframe tbody tr th {\n",
       "        vertical-align: top;\n",
       "    }\n",
       "\n",
       "    .dataframe thead th {\n",
       "        text-align: right;\n",
       "    }\n",
       "</style>\n",
       "<table border=\"1\" class=\"dataframe\">\n",
       "  <thead>\n",
       "    <tr style=\"text-align: right;\">\n",
       "      <th></th>\n",
       "      <th>DATE</th>\n",
       "      <th>STORE_NBR</th>\n",
       "      <th>LYLTY_CARD_NBR</th>\n",
       "      <th>TXN_ID</th>\n",
       "      <th>PROD_NBR</th>\n",
       "      <th>PROD_NAME</th>\n",
       "      <th>PROD_QTY</th>\n",
       "      <th>TOT_SALES</th>\n",
       "    </tr>\n",
       "  </thead>\n",
       "  <tbody>\n",
       "    <tr>\n",
       "      <th>0</th>\n",
       "      <td>43390</td>\n",
       "      <td>1</td>\n",
       "      <td>1000</td>\n",
       "      <td>1</td>\n",
       "      <td>5</td>\n",
       "      <td>Natural Chip        Compny SeaSalt175g</td>\n",
       "      <td>2</td>\n",
       "      <td>6.0</td>\n",
       "    </tr>\n",
       "    <tr>\n",
       "      <th>1</th>\n",
       "      <td>43599</td>\n",
       "      <td>1</td>\n",
       "      <td>1307</td>\n",
       "      <td>348</td>\n",
       "      <td>66</td>\n",
       "      <td>CCs Nacho Cheese    175g</td>\n",
       "      <td>3</td>\n",
       "      <td>6.3</td>\n",
       "    </tr>\n",
       "    <tr>\n",
       "      <th>2</th>\n",
       "      <td>43605</td>\n",
       "      <td>1</td>\n",
       "      <td>1343</td>\n",
       "      <td>383</td>\n",
       "      <td>61</td>\n",
       "      <td>Smiths Crinkle Cut  Chips Chicken 170g</td>\n",
       "      <td>2</td>\n",
       "      <td>2.9</td>\n",
       "    </tr>\n",
       "    <tr>\n",
       "      <th>3</th>\n",
       "      <td>43329</td>\n",
       "      <td>2</td>\n",
       "      <td>2373</td>\n",
       "      <td>974</td>\n",
       "      <td>69</td>\n",
       "      <td>Smiths Chip Thinly  S/Cream&amp;Onion 175g</td>\n",
       "      <td>5</td>\n",
       "      <td>15.0</td>\n",
       "    </tr>\n",
       "    <tr>\n",
       "      <th>4</th>\n",
       "      <td>43330</td>\n",
       "      <td>2</td>\n",
       "      <td>2426</td>\n",
       "      <td>1038</td>\n",
       "      <td>108</td>\n",
       "      <td>Kettle Tortilla ChpsHny&amp;Jlpno Chili 150g</td>\n",
       "      <td>3</td>\n",
       "      <td>13.8</td>\n",
       "    </tr>\n",
       "  </tbody>\n",
       "</table>\n",
       "</div>"
      ],
      "text/plain": [
       "    DATE  STORE_NBR  LYLTY_CARD_NBR  TXN_ID  PROD_NBR  \\\n",
       "0  43390          1            1000       1         5   \n",
       "1  43599          1            1307     348        66   \n",
       "2  43605          1            1343     383        61   \n",
       "3  43329          2            2373     974        69   \n",
       "4  43330          2            2426    1038       108   \n",
       "\n",
       "                                  PROD_NAME  PROD_QTY  TOT_SALES  \n",
       "0    Natural Chip        Compny SeaSalt175g         2        6.0  \n",
       "1                  CCs Nacho Cheese    175g         3        6.3  \n",
       "2    Smiths Crinkle Cut  Chips Chicken 170g         2        2.9  \n",
       "3    Smiths Chip Thinly  S/Cream&Onion 175g         5       15.0  \n",
       "4  Kettle Tortilla ChpsHny&Jlpno Chili 150g         3       13.8  "
      ]
     },
     "execution_count": 55,
     "metadata": {},
     "output_type": "execute_result"
    }
   ],
   "source": [
    "transaction_data.head(5)"
   ]
  },
  {
   "cell_type": "code",
   "execution_count": 56,
   "metadata": {},
   "outputs": [
    {
     "data": {
      "text/html": [
       "<div>\n",
       "<style scoped>\n",
       "    .dataframe tbody tr th:only-of-type {\n",
       "        vertical-align: middle;\n",
       "    }\n",
       "\n",
       "    .dataframe tbody tr th {\n",
       "        vertical-align: top;\n",
       "    }\n",
       "\n",
       "    .dataframe thead th {\n",
       "        text-align: right;\n",
       "    }\n",
       "</style>\n",
       "<table border=\"1\" class=\"dataframe\">\n",
       "  <thead>\n",
       "    <tr style=\"text-align: right;\">\n",
       "      <th></th>\n",
       "      <th>LYLTY_CARD_NBR</th>\n",
       "      <th>LIFESTAGE</th>\n",
       "      <th>PREMIUM_CUSTOMER</th>\n",
       "    </tr>\n",
       "  </thead>\n",
       "  <tbody>\n",
       "    <tr>\n",
       "      <th>0</th>\n",
       "      <td>1000</td>\n",
       "      <td>YOUNG SINGLES/COUPLES</td>\n",
       "      <td>Premium</td>\n",
       "    </tr>\n",
       "    <tr>\n",
       "      <th>1</th>\n",
       "      <td>1002</td>\n",
       "      <td>YOUNG SINGLES/COUPLES</td>\n",
       "      <td>Mainstream</td>\n",
       "    </tr>\n",
       "    <tr>\n",
       "      <th>2</th>\n",
       "      <td>1003</td>\n",
       "      <td>YOUNG FAMILIES</td>\n",
       "      <td>Budget</td>\n",
       "    </tr>\n",
       "    <tr>\n",
       "      <th>3</th>\n",
       "      <td>1004</td>\n",
       "      <td>OLDER SINGLES/COUPLES</td>\n",
       "      <td>Mainstream</td>\n",
       "    </tr>\n",
       "    <tr>\n",
       "      <th>4</th>\n",
       "      <td>1005</td>\n",
       "      <td>MIDAGE SINGLES/COUPLES</td>\n",
       "      <td>Mainstream</td>\n",
       "    </tr>\n",
       "  </tbody>\n",
       "</table>\n",
       "</div>"
      ],
      "text/plain": [
       "   LYLTY_CARD_NBR               LIFESTAGE PREMIUM_CUSTOMER\n",
       "0            1000   YOUNG SINGLES/COUPLES          Premium\n",
       "1            1002   YOUNG SINGLES/COUPLES       Mainstream\n",
       "2            1003          YOUNG FAMILIES           Budget\n",
       "3            1004   OLDER SINGLES/COUPLES       Mainstream\n",
       "4            1005  MIDAGE SINGLES/COUPLES       Mainstream"
      ]
     },
     "execution_count": 56,
     "metadata": {},
     "output_type": "execute_result"
    }
   ],
   "source": [
    "customer_data.head(5)"
   ]
  },
  {
   "cell_type": "markdown",
   "metadata": {},
   "source": [
    "***transaction_data***"
   ]
  },
  {
   "cell_type": "code",
   "execution_count": 57,
   "metadata": {},
   "outputs": [
    {
     "data": {
      "text/plain": [
       "DATE                int64\n",
       "STORE_NBR           int64\n",
       "LYLTY_CARD_NBR      int64\n",
       "TXN_ID              int64\n",
       "PROD_NBR            int64\n",
       "PROD_NAME          object\n",
       "PROD_QTY            int64\n",
       "TOT_SALES         float64\n",
       "dtype: object"
      ]
     },
     "execution_count": 57,
     "metadata": {},
     "output_type": "execute_result"
    }
   ],
   "source": [
    "transaction_data.dtypes"
   ]
  },
  {
   "cell_type": "markdown",
   "metadata": {
    "slideshow": {
     "slide_type": "notes"
    }
   },
   "source": [
    "    So, we need to convert DATE col of this one to DATE format."
   ]
  },
  {
   "cell_type": "code",
   "execution_count": 58,
   "metadata": {},
   "outputs": [
    {
     "data": {
      "text/html": [
       "<div>\n",
       "<style scoped>\n",
       "    .dataframe tbody tr th:only-of-type {\n",
       "        vertical-align: middle;\n",
       "    }\n",
       "\n",
       "    .dataframe tbody tr th {\n",
       "        vertical-align: top;\n",
       "    }\n",
       "\n",
       "    .dataframe thead th {\n",
       "        text-align: right;\n",
       "    }\n",
       "</style>\n",
       "<table border=\"1\" class=\"dataframe\">\n",
       "  <thead>\n",
       "    <tr style=\"text-align: right;\">\n",
       "      <th></th>\n",
       "      <th>DATE</th>\n",
       "      <th>STORE_NBR</th>\n",
       "      <th>LYLTY_CARD_NBR</th>\n",
       "      <th>TXN_ID</th>\n",
       "      <th>PROD_NBR</th>\n",
       "      <th>PROD_NAME</th>\n",
       "      <th>PROD_QTY</th>\n",
       "      <th>TOT_SALES</th>\n",
       "    </tr>\n",
       "  </thead>\n",
       "  <tbody>\n",
       "    <tr>\n",
       "      <th>0</th>\n",
       "      <td>2018-10-17</td>\n",
       "      <td>1</td>\n",
       "      <td>1000</td>\n",
       "      <td>1</td>\n",
       "      <td>5</td>\n",
       "      <td>Natural Chip        Compny SeaSalt175g</td>\n",
       "      <td>2</td>\n",
       "      <td>6.0</td>\n",
       "    </tr>\n",
       "    <tr>\n",
       "      <th>1</th>\n",
       "      <td>2019-05-14</td>\n",
       "      <td>1</td>\n",
       "      <td>1307</td>\n",
       "      <td>348</td>\n",
       "      <td>66</td>\n",
       "      <td>CCs Nacho Cheese    175g</td>\n",
       "      <td>3</td>\n",
       "      <td>6.3</td>\n",
       "    </tr>\n",
       "    <tr>\n",
       "      <th>2</th>\n",
       "      <td>2019-05-20</td>\n",
       "      <td>1</td>\n",
       "      <td>1343</td>\n",
       "      <td>383</td>\n",
       "      <td>61</td>\n",
       "      <td>Smiths Crinkle Cut  Chips Chicken 170g</td>\n",
       "      <td>2</td>\n",
       "      <td>2.9</td>\n",
       "    </tr>\n",
       "    <tr>\n",
       "      <th>3</th>\n",
       "      <td>2018-08-17</td>\n",
       "      <td>2</td>\n",
       "      <td>2373</td>\n",
       "      <td>974</td>\n",
       "      <td>69</td>\n",
       "      <td>Smiths Chip Thinly  S/Cream&amp;Onion 175g</td>\n",
       "      <td>5</td>\n",
       "      <td>15.0</td>\n",
       "    </tr>\n",
       "    <tr>\n",
       "      <th>4</th>\n",
       "      <td>2018-08-18</td>\n",
       "      <td>2</td>\n",
       "      <td>2426</td>\n",
       "      <td>1038</td>\n",
       "      <td>108</td>\n",
       "      <td>Kettle Tortilla ChpsHny&amp;Jlpno Chili 150g</td>\n",
       "      <td>3</td>\n",
       "      <td>13.8</td>\n",
       "    </tr>\n",
       "  </tbody>\n",
       "</table>\n",
       "</div>"
      ],
      "text/plain": [
       "        DATE  STORE_NBR  LYLTY_CARD_NBR  TXN_ID  PROD_NBR  \\\n",
       "0 2018-10-17          1            1000       1         5   \n",
       "1 2019-05-14          1            1307     348        66   \n",
       "2 2019-05-20          1            1343     383        61   \n",
       "3 2018-08-17          2            2373     974        69   \n",
       "4 2018-08-18          2            2426    1038       108   \n",
       "\n",
       "                                  PROD_NAME  PROD_QTY  TOT_SALES  \n",
       "0    Natural Chip        Compny SeaSalt175g         2        6.0  \n",
       "1                  CCs Nacho Cheese    175g         3        6.3  \n",
       "2    Smiths Crinkle Cut  Chips Chicken 170g         2        2.9  \n",
       "3    Smiths Chip Thinly  S/Cream&Onion 175g         5       15.0  \n",
       "4  Kettle Tortilla ChpsHny&Jlpno Chili 150g         3       13.8  "
      ]
     },
     "execution_count": 58,
     "metadata": {},
     "output_type": "execute_result"
    }
   ],
   "source": [
    "#Convert the DATE column to date format\n",
    "transaction_data[\"DATE\"] = pd.to_datetime(transaction_data[\"DATE\"], origin = '1899-12-30', unit='D')\n",
    "\n",
    "transaction_data.head(5)"
   ]
  },
  {
   "cell_type": "code",
   "execution_count": 59,
   "metadata": {},
   "outputs": [
    {
     "data": {
      "text/html": [
       "<div>\n",
       "<style scoped>\n",
       "    .dataframe tbody tr th:only-of-type {\n",
       "        vertical-align: middle;\n",
       "    }\n",
       "\n",
       "    .dataframe tbody tr th {\n",
       "        vertical-align: top;\n",
       "    }\n",
       "\n",
       "    .dataframe thead th {\n",
       "        text-align: right;\n",
       "    }\n",
       "</style>\n",
       "<table border=\"1\" class=\"dataframe\">\n",
       "  <thead>\n",
       "    <tr style=\"text-align: right;\">\n",
       "      <th></th>\n",
       "      <th>PROD_NAME</th>\n",
       "      <th>Total</th>\n",
       "    </tr>\n",
       "  </thead>\n",
       "  <tbody>\n",
       "    <tr>\n",
       "      <th>0</th>\n",
       "      <td>Burger Rings 220g</td>\n",
       "      <td>1564</td>\n",
       "    </tr>\n",
       "    <tr>\n",
       "      <th>1</th>\n",
       "      <td>CCs Nacho Cheese    175g</td>\n",
       "      <td>1498</td>\n",
       "    </tr>\n",
       "    <tr>\n",
       "      <th>2</th>\n",
       "      <td>CCs Original 175g</td>\n",
       "      <td>1514</td>\n",
       "    </tr>\n",
       "    <tr>\n",
       "      <th>3</th>\n",
       "      <td>CCs Tasty Cheese    175g</td>\n",
       "      <td>1539</td>\n",
       "    </tr>\n",
       "    <tr>\n",
       "      <th>4</th>\n",
       "      <td>Cheetos Chs &amp; Bacon Balls 190g</td>\n",
       "      <td>1479</td>\n",
       "    </tr>\n",
       "    <tr>\n",
       "      <th>...</th>\n",
       "      <td>...</td>\n",
       "      <td>...</td>\n",
       "    </tr>\n",
       "    <tr>\n",
       "      <th>109</th>\n",
       "      <td>WW Sour Cream &amp;OnionStacked Chips 160g</td>\n",
       "      <td>1483</td>\n",
       "    </tr>\n",
       "    <tr>\n",
       "      <th>110</th>\n",
       "      <td>WW Supreme Cheese   Corn Chips 200g</td>\n",
       "      <td>1509</td>\n",
       "    </tr>\n",
       "    <tr>\n",
       "      <th>111</th>\n",
       "      <td>Woolworths Cheese   Rings 190g</td>\n",
       "      <td>1516</td>\n",
       "    </tr>\n",
       "    <tr>\n",
       "      <th>112</th>\n",
       "      <td>Woolworths Medium   Salsa 300g</td>\n",
       "      <td>1430</td>\n",
       "    </tr>\n",
       "    <tr>\n",
       "      <th>113</th>\n",
       "      <td>Woolworths Mild     Salsa 300g</td>\n",
       "      <td>1491</td>\n",
       "    </tr>\n",
       "  </tbody>\n",
       "</table>\n",
       "<p>114 rows × 2 columns</p>\n",
       "</div>"
      ],
      "text/plain": [
       "                                  PROD_NAME  Total\n",
       "0                         Burger Rings 220g   1564\n",
       "1                  CCs Nacho Cheese    175g   1498\n",
       "2                         CCs Original 175g   1514\n",
       "3                  CCs Tasty Cheese    175g   1539\n",
       "4            Cheetos Chs & Bacon Balls 190g   1479\n",
       "..                                      ...    ...\n",
       "109  WW Sour Cream &OnionStacked Chips 160g   1483\n",
       "110     WW Supreme Cheese   Corn Chips 200g   1509\n",
       "111          Woolworths Cheese   Rings 190g   1516\n",
       "112          Woolworths Medium   Salsa 300g   1430\n",
       "113          Woolworths Mild     Salsa 300g   1491\n",
       "\n",
       "[114 rows x 2 columns]"
      ]
     },
     "execution_count": 59,
     "metadata": {},
     "output_type": "execute_result"
    }
   ],
   "source": [
    "transaction_data.groupby('PROD_NAME').size().reset_index(name='Total')"
   ]
  },
  {
   "cell_type": "markdown",
   "metadata": {},
   "source": [
    "    Okay, i see that there are some non-chips products such as 'Woolworths Medium Salsa' and 'Woolworths Mild Salsa'. So we need to check and remove all non-chips before analyzing."
   ]
  },
  {
   "cell_type": "code",
   "execution_count": 60,
   "metadata": {},
   "outputs": [
    {
     "data": {
      "text/plain": [
       "array(['Natural Chip        Compny SeaSalt175g',\n",
       "       'CCs Nacho Cheese    175g',\n",
       "       'Smiths Crinkle Cut  Chips Chicken 170g',\n",
       "       'Smiths Chip Thinly  S/Cream&Onion 175g',\n",
       "       'Kettle Tortilla ChpsHny&Jlpno Chili 150g',\n",
       "       'Old El Paso Salsa   Dip Tomato Mild 300g',\n",
       "       'Smiths Crinkle Chips Salt & Vinegar 330g',\n",
       "       'Grain Waves         Sweet Chilli 210g',\n",
       "       'Doritos Corn Chip Mexican Jalapeno 150g',\n",
       "       'Grain Waves Sour    Cream&Chives 210G',\n",
       "       'Kettle Sensations   Siracha Lime 150g',\n",
       "       'Twisties Cheese     270g', 'WW Crinkle Cut      Chicken 175g',\n",
       "       'Thins Chips Light&  Tangy 175g', 'CCs Original 175g',\n",
       "       'Burger Rings 220g', 'NCC Sour Cream &    Garden Chives 175g',\n",
       "       'Doritos Corn Chip Southern Chicken 150g',\n",
       "       'Cheezels Cheese Box 125g', 'Smiths Crinkle      Original 330g',\n",
       "       'Infzns Crn Crnchers Tangy Gcamole 110g',\n",
       "       'Kettle Sea Salt     And Vinegar 175g',\n",
       "       'Smiths Chip Thinly  Cut Original 175g', 'Kettle Original 175g',\n",
       "       'Red Rock Deli Thai  Chilli&Lime 150g',\n",
       "       'Pringles Sthrn FriedChicken 134g', 'Pringles Sweet&Spcy BBQ 134g',\n",
       "       'Red Rock Deli SR    Salsa & Mzzrlla 150g',\n",
       "       'Thins Chips         Originl saltd 175g',\n",
       "       'Red Rock Deli Sp    Salt & Truffle 150G',\n",
       "       'Smiths Thinly       Swt Chli&S/Cream175G', 'Kettle Chilli 175g',\n",
       "       'Doritos Mexicana    170g',\n",
       "       'Smiths Crinkle Cut  French OnionDip 150g',\n",
       "       'Natural ChipCo      Hony Soy Chckn175g',\n",
       "       'Dorito Corn Chp     Supreme 380g', 'Twisties Chicken270g',\n",
       "       'Smiths Thinly Cut   Roast Chicken 175g',\n",
       "       'Smiths Crinkle Cut  Tomato Salsa 150g',\n",
       "       'Kettle Mozzarella   Basil & Pesto 175g',\n",
       "       'Infuzions Thai SweetChili PotatoMix 110g',\n",
       "       'Kettle Sensations   Camembert & Fig 150g',\n",
       "       'Smith Crinkle Cut   Mac N Cheese 150g',\n",
       "       'Kettle Honey Soy    Chicken 175g',\n",
       "       'Thins Chips Seasonedchicken 175g',\n",
       "       'Smiths Crinkle Cut  Salt & Vinegar 170g',\n",
       "       'Infuzions BBQ Rib   Prawn Crackers 110g',\n",
       "       'GrnWves Plus Btroot & Chilli Jam 180g',\n",
       "       'Tyrrells Crisps     Lightly Salted 165g',\n",
       "       'Kettle Sweet Chilli And Sour Cream 175g',\n",
       "       'Doritos Salsa       Medium 300g', 'Kettle 135g Swt Pot Sea Salt',\n",
       "       'Pringles SourCream  Onion 134g',\n",
       "       'Doritos Corn Chips  Original 170g',\n",
       "       'Twisties Cheese     Burger 250g',\n",
       "       'Old El Paso Salsa   Dip Chnky Tom Ht300g',\n",
       "       'Cobs Popd Swt/Chlli &Sr/Cream Chips 110g',\n",
       "       'Woolworths Mild     Salsa 300g',\n",
       "       'Natural Chip Co     Tmato Hrb&Spce 175g',\n",
       "       'Smiths Crinkle Cut  Chips Original 170g',\n",
       "       'Cobs Popd Sea Salt  Chips 110g',\n",
       "       'Smiths Crinkle Cut  Chips Chs&Onion170g',\n",
       "       'French Fries Potato Chips 175g',\n",
       "       'Old El Paso Salsa   Dip Tomato Med 300g',\n",
       "       'Doritos Corn Chips  Cheese Supreme 170g',\n",
       "       'Pringles Original   Crisps 134g',\n",
       "       'RRD Chilli&         Coconut 150g',\n",
       "       'WW Original Corn    Chips 200g',\n",
       "       'Thins Potato Chips  Hot & Spicy 175g',\n",
       "       'Cobs Popd Sour Crm  &Chives Chips 110g',\n",
       "       'Smiths Crnkle Chip  Orgnl Big Bag 380g',\n",
       "       'Doritos Corn Chips  Nacho Cheese 170g',\n",
       "       'Kettle Sensations   BBQ&Maple 150g',\n",
       "       'WW D/Style Chip     Sea Salt 200g',\n",
       "       'Pringles Chicken    Salt Crips 134g',\n",
       "       'WW Original Stacked Chips 160g',\n",
       "       'Smiths Chip Thinly  CutSalt/Vinegr175g', 'Cheezels Cheese 330g',\n",
       "       'Tostitos Lightly    Salted 175g',\n",
       "       'Thins Chips Salt &  Vinegar 175g',\n",
       "       'Smiths Crinkle Cut  Chips Barbecue 170g', 'Cheetos Puffs 165g',\n",
       "       'RRD Sweet Chilli &  Sour Cream 165g',\n",
       "       'WW Crinkle Cut      Original 175g',\n",
       "       'Tostitos Splash Of  Lime 175g', 'Woolworths Medium   Salsa 300g',\n",
       "       'Kettle Tortilla ChpsBtroot&Ricotta 150g',\n",
       "       'CCs Tasty Cheese    175g', 'Woolworths Cheese   Rings 190g',\n",
       "       'Tostitos Smoked     Chipotle 175g', 'Pringles Barbeque   134g',\n",
       "       'WW Supreme Cheese   Corn Chips 200g',\n",
       "       'Pringles Mystery    Flavour 134g',\n",
       "       'Tyrrells Crisps     Ched & Chives 165g',\n",
       "       'Snbts Whlgrn Crisps Cheddr&Mstrd 90g',\n",
       "       'Cheetos Chs & Bacon Balls 190g', 'Pringles Slt Vingar 134g',\n",
       "       'Infuzions SourCream&Herbs Veg Strws 110g',\n",
       "       'Kettle Tortilla ChpsFeta&Garlic 150g',\n",
       "       'Infuzions Mango     Chutny Papadums 70g',\n",
       "       'RRD Steak &         Chimuchurri 150g',\n",
       "       'RRD Honey Soy       Chicken 165g',\n",
       "       'Sunbites Whlegrn    Crisps Frch/Onin 90g',\n",
       "       'RRD Salt & Vinegar  165g', 'Doritos Cheese      Supreme 330g',\n",
       "       'Smiths Crinkle Cut  Snag&Sauce 150g',\n",
       "       'WW Sour Cream &OnionStacked Chips 160g',\n",
       "       'RRD Lime & Pepper   165g',\n",
       "       'Natural ChipCo Sea  Salt & Vinegr 175g',\n",
       "       'Red Rock Deli Chikn&Garlic Aioli 150g',\n",
       "       'RRD SR Slow Rst     Pork Belly 150g', 'RRD Pc Sea Salt     165g',\n",
       "       'Smith Crinkle Cut   Bolognese 150g', 'Doritos Salsa Mild  300g'],\n",
       "      dtype=object)"
      ]
     },
     "execution_count": 60,
     "metadata": {},
     "output_type": "execute_result"
    }
   ],
   "source": [
    "# Examine the words in PROD_NAME \n",
    "product_words = transaction_data[\"PROD_NAME\"].unique()\n",
    "product_words"
   ]
  },
  {
   "cell_type": "code",
   "execution_count": 61,
   "metadata": {},
   "outputs": [
    {
     "data": {
      "text/plain": [
       "['Natural',\n",
       " 'Chip',\n",
       " 'Compny',\n",
       " 'SeaSalt',\n",
       " 'CCs',\n",
       " 'Nacho',\n",
       " 'Cheese',\n",
       " 'Smiths',\n",
       " 'Crinkle',\n",
       " 'Cut',\n",
       " 'Chips',\n",
       " 'Chicken',\n",
       " 'Smiths',\n",
       " 'Chip',\n",
       " 'Thinly',\n",
       " 'S/Cream',\n",
       " 'Onion',\n",
       " 'Kettle',\n",
       " 'Tortilla',\n",
       " 'ChpsHny',\n",
       " 'Jlpno',\n",
       " 'Chili',\n",
       " 'Old',\n",
       " 'El',\n",
       " 'Paso',\n",
       " 'Salsa',\n",
       " 'Dip',\n",
       " 'Tomato',\n",
       " 'Mild',\n",
       " 'Smiths',\n",
       " 'Crinkle',\n",
       " 'Chips',\n",
       " 'Salt',\n",
       " 'Vinegar',\n",
       " 'Grain',\n",
       " 'Waves',\n",
       " 'Sweet',\n",
       " 'Chilli',\n",
       " 'Doritos',\n",
       " 'Corn',\n",
       " 'Chip',\n",
       " 'Mexican',\n",
       " 'Jalapeno',\n",
       " 'Grain',\n",
       " 'Waves',\n",
       " 'Sour',\n",
       " 'Cream',\n",
       " 'Chives',\n",
       " 'Kettle',\n",
       " 'Sensations',\n",
       " 'Siracha',\n",
       " 'Lime',\n",
       " 'Twisties',\n",
       " 'Cheese',\n",
       " 'WW',\n",
       " 'Crinkle',\n",
       " 'Cut',\n",
       " 'Chicken',\n",
       " 'Thins',\n",
       " 'Chips',\n",
       " 'Light',\n",
       " 'Tangy',\n",
       " 'CCs',\n",
       " 'Original',\n",
       " 'Burger',\n",
       " 'Rings',\n",
       " 'NCC',\n",
       " 'Sour',\n",
       " 'Cream',\n",
       " 'Garden',\n",
       " 'Chives',\n",
       " 'Doritos',\n",
       " 'Corn',\n",
       " 'Chip',\n",
       " 'Southern',\n",
       " 'Chicken',\n",
       " 'Cheezels',\n",
       " 'Cheese',\n",
       " 'Box',\n",
       " 'Smiths',\n",
       " 'Crinkle',\n",
       " 'Original',\n",
       " 'Infzns',\n",
       " 'Crn',\n",
       " 'Crnchers',\n",
       " 'Tangy',\n",
       " 'Gcamole',\n",
       " 'Kettle',\n",
       " 'Sea',\n",
       " 'Salt',\n",
       " 'And',\n",
       " 'Vinegar',\n",
       " 'Smiths',\n",
       " 'Chip',\n",
       " 'Thinly',\n",
       " 'Cut',\n",
       " 'Original',\n",
       " 'Kettle',\n",
       " 'Original',\n",
       " 'Red',\n",
       " 'Rock',\n",
       " 'Deli',\n",
       " 'Thai',\n",
       " 'Chilli',\n",
       " 'Lime',\n",
       " 'Pringles',\n",
       " 'Sthrn',\n",
       " 'FriedChicken',\n",
       " 'Pringles',\n",
       " 'Sweet',\n",
       " 'Spcy',\n",
       " 'BBQ',\n",
       " 'Red',\n",
       " 'Rock',\n",
       " 'Deli',\n",
       " 'SR',\n",
       " 'Salsa',\n",
       " 'Mzzrlla',\n",
       " 'Thins',\n",
       " 'Chips',\n",
       " 'Originl',\n",
       " 'saltd',\n",
       " 'Red',\n",
       " 'Rock',\n",
       " 'Deli',\n",
       " 'Sp',\n",
       " 'Salt',\n",
       " 'Truffle',\n",
       " 'Smiths',\n",
       " 'Thinly',\n",
       " 'Swt',\n",
       " 'Chli',\n",
       " 'S/Cream',\n",
       " 'Kettle',\n",
       " 'Chilli',\n",
       " 'Doritos',\n",
       " 'Mexicana',\n",
       " 'Smiths',\n",
       " 'Crinkle',\n",
       " 'Cut',\n",
       " 'French',\n",
       " 'OnionDip',\n",
       " 'Natural',\n",
       " 'ChipCo',\n",
       " 'Hony',\n",
       " 'Soy',\n",
       " 'Chckn',\n",
       " 'Dorito',\n",
       " 'Corn',\n",
       " 'Chp',\n",
       " 'Supreme',\n",
       " 'Twisties',\n",
       " 'Chicken',\n",
       " 'Smiths',\n",
       " 'Thinly',\n",
       " 'Cut',\n",
       " 'Roast',\n",
       " 'Chicken',\n",
       " 'Smiths',\n",
       " 'Crinkle',\n",
       " 'Cut',\n",
       " 'Tomato',\n",
       " 'Salsa',\n",
       " 'Kettle',\n",
       " 'Mozzarella',\n",
       " 'Basil',\n",
       " 'Pesto',\n",
       " 'Infuzions',\n",
       " 'Thai',\n",
       " 'SweetChili',\n",
       " 'PotatoMix',\n",
       " 'Kettle',\n",
       " 'Sensations',\n",
       " 'Camembert',\n",
       " 'Fig',\n",
       " 'Smith',\n",
       " 'Crinkle',\n",
       " 'Cut',\n",
       " 'Mac',\n",
       " 'N',\n",
       " 'Cheese',\n",
       " 'Kettle',\n",
       " 'Honey',\n",
       " 'Soy',\n",
       " 'Chicken',\n",
       " 'Thins',\n",
       " 'Chips',\n",
       " 'Seasonedchicken',\n",
       " 'Smiths',\n",
       " 'Crinkle',\n",
       " 'Cut',\n",
       " 'Salt',\n",
       " 'Vinegar',\n",
       " 'Infuzions',\n",
       " 'BBQ',\n",
       " 'Rib',\n",
       " 'Prawn',\n",
       " 'Crackers',\n",
       " 'GrnWves',\n",
       " 'Plus',\n",
       " 'Btroot',\n",
       " 'Chilli',\n",
       " 'Jam',\n",
       " 'Tyrrells',\n",
       " 'Crisps',\n",
       " 'Lightly',\n",
       " 'Salted',\n",
       " 'Kettle',\n",
       " 'Sweet',\n",
       " 'Chilli',\n",
       " 'And',\n",
       " 'Sour',\n",
       " 'Cream',\n",
       " 'Doritos',\n",
       " 'Salsa',\n",
       " 'Medium',\n",
       " 'Kettle',\n",
       " 'Swt',\n",
       " 'Pot',\n",
       " 'Sea',\n",
       " 'Salt',\n",
       " 'Pringles',\n",
       " 'SourCream',\n",
       " 'Onion',\n",
       " 'Doritos',\n",
       " 'Corn',\n",
       " 'Chips',\n",
       " 'Original',\n",
       " 'Twisties',\n",
       " 'Cheese',\n",
       " 'Burger',\n",
       " 'Old',\n",
       " 'El',\n",
       " 'Paso',\n",
       " 'Salsa',\n",
       " 'Dip',\n",
       " 'Chnky',\n",
       " 'Tom',\n",
       " 'Ht',\n",
       " 'Cobs',\n",
       " 'Popd',\n",
       " 'Swt/Chlli',\n",
       " 'Sr/Cream',\n",
       " 'Chips',\n",
       " 'Woolworths',\n",
       " 'Mild',\n",
       " 'Salsa',\n",
       " 'Natural',\n",
       " 'Chip',\n",
       " 'Co',\n",
       " 'Tmato',\n",
       " 'Hrb',\n",
       " 'Spce',\n",
       " 'Smiths',\n",
       " 'Crinkle',\n",
       " 'Cut',\n",
       " 'Chips',\n",
       " 'Original',\n",
       " 'Cobs',\n",
       " 'Popd',\n",
       " 'Sea',\n",
       " 'Salt',\n",
       " 'Chips',\n",
       " 'Smiths',\n",
       " 'Crinkle',\n",
       " 'Cut',\n",
       " 'Chips',\n",
       " 'Chs',\n",
       " 'Onion',\n",
       " 'French',\n",
       " 'Fries',\n",
       " 'Potato',\n",
       " 'Chips',\n",
       " 'Old',\n",
       " 'El',\n",
       " 'Paso',\n",
       " 'Salsa',\n",
       " 'Dip',\n",
       " 'Tomato',\n",
       " 'Med',\n",
       " 'Doritos',\n",
       " 'Corn',\n",
       " 'Chips',\n",
       " 'Cheese',\n",
       " 'Supreme',\n",
       " 'Pringles',\n",
       " 'Original',\n",
       " 'Crisps',\n",
       " 'RRD',\n",
       " 'Chilli',\n",
       " 'Coconut',\n",
       " 'WW',\n",
       " 'Original',\n",
       " 'Corn',\n",
       " 'Chips',\n",
       " 'Thins',\n",
       " 'Potato',\n",
       " 'Chips',\n",
       " 'Hot',\n",
       " 'Spicy',\n",
       " 'Cobs',\n",
       " 'Popd',\n",
       " 'Sour',\n",
       " 'Crm',\n",
       " 'Chives',\n",
       " 'Chips',\n",
       " 'Smiths',\n",
       " 'Crnkle',\n",
       " 'Chip',\n",
       " 'Orgnl',\n",
       " 'Big',\n",
       " 'Bag',\n",
       " 'Doritos',\n",
       " 'Corn',\n",
       " 'Chips',\n",
       " 'Nacho',\n",
       " 'Cheese',\n",
       " 'Kettle',\n",
       " 'Sensations',\n",
       " 'BBQ',\n",
       " 'Maple',\n",
       " 'WW',\n",
       " 'D/Style',\n",
       " 'Chip',\n",
       " 'Sea',\n",
       " 'Salt',\n",
       " 'Pringles',\n",
       " 'Chicken',\n",
       " 'Salt',\n",
       " 'Crips',\n",
       " 'WW',\n",
       " 'Original',\n",
       " 'Stacked',\n",
       " 'Chips',\n",
       " 'Smiths',\n",
       " 'Chip',\n",
       " 'Thinly',\n",
       " 'CutSalt/Vinegr',\n",
       " 'Cheezels',\n",
       " 'Cheese',\n",
       " 'Tostitos',\n",
       " 'Lightly',\n",
       " 'Salted',\n",
       " 'Thins',\n",
       " 'Chips',\n",
       " 'Salt',\n",
       " 'Vinegar',\n",
       " 'Smiths',\n",
       " 'Crinkle',\n",
       " 'Cut',\n",
       " 'Chips',\n",
       " 'Barbecue',\n",
       " 'Cheetos',\n",
       " 'Puffs',\n",
       " 'RRD',\n",
       " 'Sweet',\n",
       " 'Chilli',\n",
       " 'Sour',\n",
       " 'Cream',\n",
       " 'WW',\n",
       " 'Crinkle',\n",
       " 'Cut',\n",
       " 'Original',\n",
       " 'Tostitos',\n",
       " 'Splash',\n",
       " 'Of',\n",
       " 'Lime',\n",
       " 'Woolworths',\n",
       " 'Medium',\n",
       " 'Salsa',\n",
       " 'Kettle',\n",
       " 'Tortilla',\n",
       " 'ChpsBtroot',\n",
       " 'Ricotta',\n",
       " 'CCs',\n",
       " 'Tasty',\n",
       " 'Cheese',\n",
       " 'Woolworths',\n",
       " 'Cheese',\n",
       " 'Rings',\n",
       " 'Tostitos',\n",
       " 'Smoked',\n",
       " 'Chipotle',\n",
       " 'Pringles',\n",
       " 'Barbeque',\n",
       " 'WW',\n",
       " 'Supreme',\n",
       " 'Cheese',\n",
       " 'Corn',\n",
       " 'Chips',\n",
       " 'Pringles',\n",
       " 'Mystery',\n",
       " 'Flavour',\n",
       " 'Tyrrells',\n",
       " 'Crisps',\n",
       " 'Ched',\n",
       " 'Chives',\n",
       " 'Snbts',\n",
       " 'Whlgrn',\n",
       " 'Crisps',\n",
       " 'Cheddr',\n",
       " 'Mstrd',\n",
       " 'Cheetos',\n",
       " 'Chs',\n",
       " 'Bacon',\n",
       " 'Balls',\n",
       " 'Pringles',\n",
       " 'Slt',\n",
       " 'Vingar',\n",
       " 'Infuzions',\n",
       " 'SourCream',\n",
       " 'Herbs',\n",
       " 'Veg',\n",
       " 'Strws',\n",
       " 'Kettle',\n",
       " 'Tortilla',\n",
       " 'ChpsFeta',\n",
       " 'Garlic',\n",
       " 'Infuzions',\n",
       " 'Mango',\n",
       " 'Chutny',\n",
       " 'Papadums',\n",
       " 'RRD',\n",
       " 'Steak',\n",
       " 'Chimuchurri',\n",
       " 'RRD',\n",
       " 'Honey',\n",
       " 'Soy',\n",
       " 'Chicken',\n",
       " 'Sunbites',\n",
       " 'Whlegrn',\n",
       " 'Crisps',\n",
       " 'Frch/Onin',\n",
       " 'RRD',\n",
       " 'Salt',\n",
       " 'Vinegar',\n",
       " 'Doritos',\n",
       " 'Cheese',\n",
       " 'Supreme',\n",
       " 'Smiths',\n",
       " 'Crinkle',\n",
       " 'Cut',\n",
       " 'Snag',\n",
       " 'Sauce',\n",
       " 'WW',\n",
       " 'Sour',\n",
       " 'Cream',\n",
       " 'OnionStacked',\n",
       " 'Chips',\n",
       " 'RRD',\n",
       " 'Lime',\n",
       " 'Pepper',\n",
       " 'Natural',\n",
       " 'ChipCo',\n",
       " 'Sea',\n",
       " 'Salt',\n",
       " 'Vinegr',\n",
       " 'Red',\n",
       " 'Rock',\n",
       " 'Deli',\n",
       " 'Chikn',\n",
       " 'Garlic',\n",
       " 'Aioli',\n",
       " 'RRD',\n",
       " 'SR',\n",
       " 'Slow',\n",
       " 'Rst',\n",
       " 'Pork',\n",
       " 'Belly',\n",
       " 'RRD',\n",
       " 'Pc',\n",
       " 'Sea',\n",
       " 'Salt',\n",
       " 'Smith',\n",
       " 'Crinkle',\n",
       " 'Cut',\n",
       " 'Bolognese',\n",
       " 'Doritos',\n",
       " 'Salsa',\n",
       " 'Mild']"
      ]
     },
     "execution_count": 61,
     "metadata": {},
     "output_type": "execute_result"
    }
   ],
   "source": [
    "# Remove special characters and digits\n",
    "product_words = [re.sub(\"&\", \" \", word) for word in product_words]          # Replace '&' with space\n",
    "product_words = [re.sub(r\"\\d+[gG]\", \" \", word) for word in product_words] # Remove weights in grams (e.g., 100g, 500G)\n",
    "\n",
    "#Split product names into individual words\n",
    "product_words = [word.split(\" \") for word in product_words]\n",
    "\n",
    "#Flatten the list and remove empty strings\n",
    "product_words = [word for sublist in product_words for word in sublist if word]\n",
    "product_words"
   ]
  },
  {
   "cell_type": "code",
   "execution_count": 62,
   "metadata": {},
   "outputs": [
    {
     "data": {
      "image/png": "[encoded data removed]",
      "text/plain": [
       "<Figure size 1000x600 with 1 Axes>"
      ]
     },
     "metadata": {},
     "output_type": "display_data"
    }
   ],
   "source": [
    "# Display the word cloud\n",
    "word_cloud = WordCloud(max_words=100).generate_from_frequencies(Counter(product_words))\n",
    "\n",
    "plt.figure(figsize=(10, 6))\n",
    "plt.imshow(word_cloud, interpolation='bilinear')\n",
    "plt.axis('off')\n",
    "plt.show()"
   ]
  },
  {
   "cell_type": "code",
   "execution_count": 63,
   "metadata": {},
   "outputs": [],
   "source": [
    "#Remove SALSA products (I mean non-chip products)\n",
    "transaction_data['SALSA'] = transaction_data['PROD_NAME'].str.contains(\"salsa\", case=False, na=False)\n",
    "transaction_data = transaction_data[~transaction_data['SALSA']]  # Filter out rows with SALSA products\n",
    "transaction_data = transaction_data.drop(columns=['SALSA'])      # Remove SALSA column\n"
   ]
  },
  {
   "cell_type": "code",
   "execution_count": 64,
   "metadata": {},
   "outputs": [
    {
     "data": {
      "text/plain": [
       "DATE              0\n",
       "STORE_NBR         0\n",
       "LYLTY_CARD_NBR    0\n",
       "TXN_ID            0\n",
       "PROD_NBR          0\n",
       "PROD_NAME         0\n",
       "PROD_QTY          0\n",
       "TOT_SALES         0\n",
       "dtype: int64"
      ]
     },
     "execution_count": 64,
     "metadata": {},
     "output_type": "execute_result"
    }
   ],
   "source": [
    "transaction_data.isna().sum()"
   ]
  },
  {
   "cell_type": "markdown",
   "metadata": {},
   "source": [
    "       There are no any nulls here. So let's check outliers of 'PRO_QTY', 'TOT_SALES'"
   ]
  },
  {
   "cell_type": "code",
   "execution_count": 65,
   "metadata": {},
   "outputs": [
    {
     "data": {
      "text/plain": [
       "Text(0.5, 1.0, 'Boxplot of PROD_QTY')"
      ]
     },
     "execution_count": 65,
     "metadata": {},
     "output_type": "execute_result"
    },
    {
     "data": {
      "image/png": "[encoded data removed]",
      "text/plain": [
       "<Figure size 1200x600 with 2 Axes>"
      ]
     },
     "metadata": {},
     "output_type": "display_data"
    }
   ],
   "source": [
    "plt.figure(figsize=(12, 6))\n",
    "plt.subplot(1, 2, 1)\n",
    "plt.boxplot(transaction_data['TOT_SALES'])  \n",
    "plt.title('Boxplot of TOT_SALES')\n",
    "\n",
    "plt.subplot(1, 2, 2)\n",
    "plt.boxplot(transaction_data['PROD_QTY'])  \n",
    "plt.title('Boxplot of PROD_QTY')\n"
   ]
  },
  {
   "cell_type": "markdown",
   "metadata": {},
   "source": [
    "    Okay, we got an outiler."
   ]
  },
  {
   "cell_type": "code",
   "execution_count": 66,
   "metadata": {},
   "outputs": [
    {
     "data": {
      "text/html": [
       "<div>\n",
       "<style scoped>\n",
       "    .dataframe tbody tr th:only-of-type {\n",
       "        vertical-align: middle;\n",
       "    }\n",
       "\n",
       "    .dataframe tbody tr th {\n",
       "        vertical-align: top;\n",
       "    }\n",
       "\n",
       "    .dataframe thead th {\n",
       "        text-align: right;\n",
       "    }\n",
       "</style>\n",
       "<table border=\"1\" class=\"dataframe\">\n",
       "  <thead>\n",
       "    <tr style=\"text-align: right;\">\n",
       "      <th></th>\n",
       "      <th>DATE</th>\n",
       "      <th>STORE_NBR</th>\n",
       "      <th>LYLTY_CARD_NBR</th>\n",
       "      <th>TXN_ID</th>\n",
       "      <th>PROD_NBR</th>\n",
       "      <th>PROD_NAME</th>\n",
       "      <th>PROD_QTY</th>\n",
       "      <th>TOT_SALES</th>\n",
       "    </tr>\n",
       "  </thead>\n",
       "  <tbody>\n",
       "    <tr>\n",
       "      <th>69763</th>\n",
       "      <td>2019-05-20</td>\n",
       "      <td>226</td>\n",
       "      <td>226000</td>\n",
       "      <td>226210</td>\n",
       "      <td>4</td>\n",
       "      <td>Dorito Corn Chp     Supreme 380g</td>\n",
       "      <td>200</td>\n",
       "      <td>650.0</td>\n",
       "    </tr>\n",
       "    <tr>\n",
       "      <th>69762</th>\n",
       "      <td>2018-08-19</td>\n",
       "      <td>226</td>\n",
       "      <td>226000</td>\n",
       "      <td>226201</td>\n",
       "      <td>4</td>\n",
       "      <td>Dorito Corn Chp     Supreme 380g</td>\n",
       "      <td>200</td>\n",
       "      <td>650.0</td>\n",
       "    </tr>\n",
       "    <tr>\n",
       "      <th>135225</th>\n",
       "      <td>2019-05-15</td>\n",
       "      <td>46</td>\n",
       "      <td>46296</td>\n",
       "      <td>42138</td>\n",
       "      <td>81</td>\n",
       "      <td>Pringles Original   Crisps 134g</td>\n",
       "      <td>5</td>\n",
       "      <td>18.5</td>\n",
       "    </tr>\n",
       "    <tr>\n",
       "      <th>69523</th>\n",
       "      <td>2019-05-15</td>\n",
       "      <td>71</td>\n",
       "      <td>71142</td>\n",
       "      <td>69852</td>\n",
       "      <td>96</td>\n",
       "      <td>WW Original Stacked Chips 160g</td>\n",
       "      <td>5</td>\n",
       "      <td>9.5</td>\n",
       "    </tr>\n",
       "    <tr>\n",
       "      <th>69502</th>\n",
       "      <td>2018-08-18</td>\n",
       "      <td>55</td>\n",
       "      <td>55144</td>\n",
       "      <td>49328</td>\n",
       "      <td>44</td>\n",
       "      <td>Thins Chips Light&amp;  Tangy 175g</td>\n",
       "      <td>5</td>\n",
       "      <td>16.5</td>\n",
       "    </tr>\n",
       "    <tr>\n",
       "      <th>...</th>\n",
       "      <td>...</td>\n",
       "      <td>...</td>\n",
       "      <td>...</td>\n",
       "      <td>...</td>\n",
       "      <td>...</td>\n",
       "      <td>...</td>\n",
       "      <td>...</td>\n",
       "      <td>...</td>\n",
       "    </tr>\n",
       "    <tr>\n",
       "      <th>150883</th>\n",
       "      <td>2018-08-14</td>\n",
       "      <td>184</td>\n",
       "      <td>184055</td>\n",
       "      <td>186586</td>\n",
       "      <td>107</td>\n",
       "      <td>Smiths Crinkle Cut  French OnionDip 150g</td>\n",
       "      <td>1</td>\n",
       "      <td>2.6</td>\n",
       "    </tr>\n",
       "    <tr>\n",
       "      <th>150885</th>\n",
       "      <td>2019-05-17</td>\n",
       "      <td>184</td>\n",
       "      <td>184152</td>\n",
       "      <td>187227</td>\n",
       "      <td>28</td>\n",
       "      <td>Thins Potato Chips  Hot &amp; Spicy 175g</td>\n",
       "      <td>1</td>\n",
       "      <td>3.3</td>\n",
       "    </tr>\n",
       "    <tr>\n",
       "      <th>29682</th>\n",
       "      <td>2018-12-04</td>\n",
       "      <td>174</td>\n",
       "      <td>174004</td>\n",
       "      <td>174974</td>\n",
       "      <td>114</td>\n",
       "      <td>Kettle Sensations   Siracha Lime 150g</td>\n",
       "      <td>1</td>\n",
       "      <td>4.6</td>\n",
       "    </tr>\n",
       "    <tr>\n",
       "      <th>150887</th>\n",
       "      <td>2019-05-17</td>\n",
       "      <td>184</td>\n",
       "      <td>184205</td>\n",
       "      <td>187584</td>\n",
       "      <td>13</td>\n",
       "      <td>Red Rock Deli Thai  Chilli&amp;Lime 150g</td>\n",
       "      <td>1</td>\n",
       "      <td>2.7</td>\n",
       "    </tr>\n",
       "    <tr>\n",
       "      <th>32447</th>\n",
       "      <td>2018-08-15</td>\n",
       "      <td>114</td>\n",
       "      <td>114006</td>\n",
       "      <td>116914</td>\n",
       "      <td>111</td>\n",
       "      <td>Smiths Chip Thinly  Cut Original 175g</td>\n",
       "      <td>1</td>\n",
       "      <td>3.0</td>\n",
       "    </tr>\n",
       "  </tbody>\n",
       "</table>\n",
       "<p>246742 rows × 8 columns</p>\n",
       "</div>"
      ],
      "text/plain": [
       "             DATE  STORE_NBR  LYLTY_CARD_NBR  TXN_ID  PROD_NBR  \\\n",
       "69763  2019-05-20        226          226000  226210         4   \n",
       "69762  2018-08-19        226          226000  226201         4   \n",
       "135225 2019-05-15         46           46296   42138        81   \n",
       "69523  2019-05-15         71           71142   69852        96   \n",
       "69502  2018-08-18         55           55144   49328        44   \n",
       "...           ...        ...             ...     ...       ...   \n",
       "150883 2018-08-14        184          184055  186586       107   \n",
       "150885 2019-05-17        184          184152  187227        28   \n",
       "29682  2018-12-04        174          174004  174974       114   \n",
       "150887 2019-05-17        184          184205  187584        13   \n",
       "32447  2018-08-15        114          114006  116914       111   \n",
       "\n",
       "                                       PROD_NAME  PROD_QTY  TOT_SALES  \n",
       "69763           Dorito Corn Chp     Supreme 380g       200      650.0  \n",
       "69762           Dorito Corn Chp     Supreme 380g       200      650.0  \n",
       "135225           Pringles Original   Crisps 134g         5       18.5  \n",
       "69523             WW Original Stacked Chips 160g         5        9.5  \n",
       "69502             Thins Chips Light&  Tangy 175g         5       16.5  \n",
       "...                                          ...       ...        ...  \n",
       "150883  Smiths Crinkle Cut  French OnionDip 150g         1        2.6  \n",
       "150885      Thins Potato Chips  Hot & Spicy 175g         1        3.3  \n",
       "29682      Kettle Sensations   Siracha Lime 150g         1        4.6  \n",
       "150887      Red Rock Deli Thai  Chilli&Lime 150g         1        2.7  \n",
       "32447      Smiths Chip Thinly  Cut Original 175g         1        3.0  \n",
       "\n",
       "[246742 rows x 8 columns]"
      ]
     },
     "execution_count": 66,
     "metadata": {},
     "output_type": "execute_result"
    }
   ],
   "source": [
    "# Sort this dataset by 'PROD_QTY' in descending order\n",
    "transaction_data.sort_values(by = 'PROD_QTY', ascending = False)"
   ]
  },
  {
   "cell_type": "code",
   "execution_count": 67,
   "metadata": {},
   "outputs": [
    {
     "data": {
      "text/html": [
       "<div>\n",
       "<style scoped>\n",
       "    .dataframe tbody tr th:only-of-type {\n",
       "        vertical-align: middle;\n",
       "    }\n",
       "\n",
       "    .dataframe tbody tr th {\n",
       "        vertical-align: top;\n",
       "    }\n",
       "\n",
       "    .dataframe thead th {\n",
       "        text-align: right;\n",
       "    }\n",
       "</style>\n",
       "<table border=\"1\" class=\"dataframe\">\n",
       "  <thead>\n",
       "    <tr style=\"text-align: right;\">\n",
       "      <th></th>\n",
       "      <th>DATE</th>\n",
       "      <th>STORE_NBR</th>\n",
       "      <th>LYLTY_CARD_NBR</th>\n",
       "      <th>TXN_ID</th>\n",
       "      <th>PROD_NBR</th>\n",
       "      <th>PROD_NAME</th>\n",
       "      <th>PROD_QTY</th>\n",
       "      <th>TOT_SALES</th>\n",
       "    </tr>\n",
       "  </thead>\n",
       "  <tbody>\n",
       "    <tr>\n",
       "      <th>69762</th>\n",
       "      <td>2018-08-19</td>\n",
       "      <td>226</td>\n",
       "      <td>226000</td>\n",
       "      <td>226201</td>\n",
       "      <td>4</td>\n",
       "      <td>Dorito Corn Chp     Supreme 380g</td>\n",
       "      <td>200</td>\n",
       "      <td>650.0</td>\n",
       "    </tr>\n",
       "    <tr>\n",
       "      <th>69763</th>\n",
       "      <td>2019-05-20</td>\n",
       "      <td>226</td>\n",
       "      <td>226000</td>\n",
       "      <td>226210</td>\n",
       "      <td>4</td>\n",
       "      <td>Dorito Corn Chp     Supreme 380g</td>\n",
       "      <td>200</td>\n",
       "      <td>650.0</td>\n",
       "    </tr>\n",
       "    <tr>\n",
       "      <th>69496</th>\n",
       "      <td>2018-08-15</td>\n",
       "      <td>49</td>\n",
       "      <td>49303</td>\n",
       "      <td>45789</td>\n",
       "      <td>14</td>\n",
       "      <td>Smiths Crnkle Chip  Orgnl Big Bag 380g</td>\n",
       "      <td>5</td>\n",
       "      <td>29.5</td>\n",
       "    </tr>\n",
       "    <tr>\n",
       "      <th>117850</th>\n",
       "      <td>2019-05-19</td>\n",
       "      <td>194</td>\n",
       "      <td>194308</td>\n",
       "      <td>194516</td>\n",
       "      <td>14</td>\n",
       "      <td>Smiths Crnkle Chip  Orgnl Big Bag 380g</td>\n",
       "      <td>5</td>\n",
       "      <td>29.5</td>\n",
       "    </tr>\n",
       "    <tr>\n",
       "      <th>171815</th>\n",
       "      <td>2018-08-17</td>\n",
       "      <td>24</td>\n",
       "      <td>24095</td>\n",
       "      <td>20797</td>\n",
       "      <td>14</td>\n",
       "      <td>Smiths Crnkle Chip  Orgnl Big Bag 380g</td>\n",
       "      <td>5</td>\n",
       "      <td>29.5</td>\n",
       "    </tr>\n",
       "    <tr>\n",
       "      <th>...</th>\n",
       "      <td>...</td>\n",
       "      <td>...</td>\n",
       "      <td>...</td>\n",
       "      <td>...</td>\n",
       "      <td>...</td>\n",
       "      <td>...</td>\n",
       "      <td>...</td>\n",
       "      <td>...</td>\n",
       "    </tr>\n",
       "    <tr>\n",
       "      <th>234096</th>\n",
       "      <td>2019-04-26</td>\n",
       "      <td>161</td>\n",
       "      <td>161318</td>\n",
       "      <td>161816</td>\n",
       "      <td>55</td>\n",
       "      <td>Snbts Whlgrn Crisps Cheddr&amp;Mstrd 90g</td>\n",
       "      <td>1</td>\n",
       "      <td>1.7</td>\n",
       "    </tr>\n",
       "    <tr>\n",
       "      <th>149536</th>\n",
       "      <td>2019-02-06</td>\n",
       "      <td>256</td>\n",
       "      <td>256500</td>\n",
       "      <td>255697</td>\n",
       "      <td>95</td>\n",
       "      <td>Sunbites Whlegrn    Crisps Frch/Onin 90g</td>\n",
       "      <td>1</td>\n",
       "      <td>1.7</td>\n",
       "    </tr>\n",
       "    <tr>\n",
       "      <th>89677</th>\n",
       "      <td>2018-10-25</td>\n",
       "      <td>124</td>\n",
       "      <td>124115</td>\n",
       "      <td>127849</td>\n",
       "      <td>72</td>\n",
       "      <td>WW Crinkle Cut      Original 175g</td>\n",
       "      <td>1</td>\n",
       "      <td>1.7</td>\n",
       "    </tr>\n",
       "    <tr>\n",
       "      <th>134767</th>\n",
       "      <td>2018-10-30</td>\n",
       "      <td>268</td>\n",
       "      <td>268247</td>\n",
       "      <td>264664</td>\n",
       "      <td>92</td>\n",
       "      <td>WW Crinkle Cut      Chicken 175g</td>\n",
       "      <td>1</td>\n",
       "      <td>1.7</td>\n",
       "    </tr>\n",
       "    <tr>\n",
       "      <th>217341</th>\n",
       "      <td>2018-11-23</td>\n",
       "      <td>1</td>\n",
       "      <td>1062</td>\n",
       "      <td>71</td>\n",
       "      <td>92</td>\n",
       "      <td>WW Crinkle Cut      Chicken 175g</td>\n",
       "      <td>1</td>\n",
       "      <td>1.7</td>\n",
       "    </tr>\n",
       "  </tbody>\n",
       "</table>\n",
       "<p>246742 rows × 8 columns</p>\n",
       "</div>"
      ],
      "text/plain": [
       "             DATE  STORE_NBR  LYLTY_CARD_NBR  TXN_ID  PROD_NBR  \\\n",
       "69762  2018-08-19        226          226000  226201         4   \n",
       "69763  2019-05-20        226          226000  226210         4   \n",
       "69496  2018-08-15         49           49303   45789        14   \n",
       "117850 2019-05-19        194          194308  194516        14   \n",
       "171815 2018-08-17         24           24095   20797        14   \n",
       "...           ...        ...             ...     ...       ...   \n",
       "234096 2019-04-26        161          161318  161816        55   \n",
       "149536 2019-02-06        256          256500  255697        95   \n",
       "89677  2018-10-25        124          124115  127849        72   \n",
       "134767 2018-10-30        268          268247  264664        92   \n",
       "217341 2018-11-23          1            1062      71        92   \n",
       "\n",
       "                                       PROD_NAME  PROD_QTY  TOT_SALES  \n",
       "69762           Dorito Corn Chp     Supreme 380g       200      650.0  \n",
       "69763           Dorito Corn Chp     Supreme 380g       200      650.0  \n",
       "69496     Smiths Crnkle Chip  Orgnl Big Bag 380g         5       29.5  \n",
       "117850    Smiths Crnkle Chip  Orgnl Big Bag 380g         5       29.5  \n",
       "171815    Smiths Crnkle Chip  Orgnl Big Bag 380g         5       29.5  \n",
       "...                                          ...       ...        ...  \n",
       "234096      Snbts Whlgrn Crisps Cheddr&Mstrd 90g         1        1.7  \n",
       "149536  Sunbites Whlegrn    Crisps Frch/Onin 90g         1        1.7  \n",
       "89677          WW Crinkle Cut      Original 175g         1        1.7  \n",
       "134767          WW Crinkle Cut      Chicken 175g         1        1.7  \n",
       "217341          WW Crinkle Cut      Chicken 175g         1        1.7  \n",
       "\n",
       "[246742 rows x 8 columns]"
      ]
     },
     "execution_count": 67,
     "metadata": {},
     "output_type": "execute_result"
    }
   ],
   "source": [
    "# Sort this dataset by 'TOT_SALES' in descending order\n",
    "transaction_data.sort_values(by = 'TOT_SALES', ascending = False)"
   ]
  },
  {
   "cell_type": "markdown",
   "metadata": {},
   "source": [
    "    There are only two transactions where 200 packets of chips are bought in one transaction and both of these transactions were by the same customer. It looks like this customer has only had the two transactions over the year and is not an ordinary retail customer. \n",
    "\n",
    "    The customer might be buying chips for commercial purposes instead. We will remove this loyalty card number from further analysis."
   ]
  },
  {
   "cell_type": "code",
   "execution_count": 68,
   "metadata": {},
   "outputs": [],
   "source": [
    "# Detect the outliers and save it\n",
    "transaction_data = transaction_data[transaction_data['PROD_QTY'] != 200]"
   ]
  },
  {
   "cell_type": "code",
   "execution_count": 69,
   "metadata": {},
   "outputs": [
    {
     "data": {
      "text/html": [
       "<div>\n",
       "<style scoped>\n",
       "    .dataframe tbody tr th:only-of-type {\n",
       "        vertical-align: middle;\n",
       "    }\n",
       "\n",
       "    .dataframe tbody tr th {\n",
       "        vertical-align: top;\n",
       "    }\n",
       "\n",
       "    .dataframe thead th {\n",
       "        text-align: right;\n",
       "    }\n",
       "</style>\n",
       "<table border=\"1\" class=\"dataframe\">\n",
       "  <thead>\n",
       "    <tr style=\"text-align: right;\">\n",
       "      <th></th>\n",
       "      <th>DATE</th>\n",
       "      <th>STORE_NBR</th>\n",
       "      <th>LYLTY_CARD_NBR</th>\n",
       "      <th>TXN_ID</th>\n",
       "      <th>PROD_NBR</th>\n",
       "      <th>PROD_QTY</th>\n",
       "      <th>TOT_SALES</th>\n",
       "    </tr>\n",
       "  </thead>\n",
       "  <tbody>\n",
       "    <tr>\n",
       "      <th>count</th>\n",
       "      <td>246740</td>\n",
       "      <td>246740.000000</td>\n",
       "      <td>2.467400e+05</td>\n",
       "      <td>2.467400e+05</td>\n",
       "      <td>246740.000000</td>\n",
       "      <td>246740.000000</td>\n",
       "      <td>246740.000000</td>\n",
       "    </tr>\n",
       "    <tr>\n",
       "      <th>mean</th>\n",
       "      <td>2018-12-30 01:18:58.448569344</td>\n",
       "      <td>135.050361</td>\n",
       "      <td>1.355303e+05</td>\n",
       "      <td>1.351304e+05</td>\n",
       "      <td>56.352213</td>\n",
       "      <td>1.906456</td>\n",
       "      <td>7.316113</td>\n",
       "    </tr>\n",
       "    <tr>\n",
       "      <th>min</th>\n",
       "      <td>2018-07-01 00:00:00</td>\n",
       "      <td>1.000000</td>\n",
       "      <td>1.000000e+03</td>\n",
       "      <td>1.000000e+00</td>\n",
       "      <td>1.000000</td>\n",
       "      <td>1.000000</td>\n",
       "      <td>1.700000</td>\n",
       "    </tr>\n",
       "    <tr>\n",
       "      <th>25%</th>\n",
       "      <td>2018-09-30 00:00:00</td>\n",
       "      <td>70.000000</td>\n",
       "      <td>7.001500e+04</td>\n",
       "      <td>6.756875e+04</td>\n",
       "      <td>26.000000</td>\n",
       "      <td>2.000000</td>\n",
       "      <td>5.800000</td>\n",
       "    </tr>\n",
       "    <tr>\n",
       "      <th>50%</th>\n",
       "      <td>2018-12-30 00:00:00</td>\n",
       "      <td>130.000000</td>\n",
       "      <td>1.303670e+05</td>\n",
       "      <td>1.351815e+05</td>\n",
       "      <td>53.000000</td>\n",
       "      <td>2.000000</td>\n",
       "      <td>7.400000</td>\n",
       "    </tr>\n",
       "    <tr>\n",
       "      <th>75%</th>\n",
       "      <td>2019-03-31 00:00:00</td>\n",
       "      <td>203.000000</td>\n",
       "      <td>2.030832e+05</td>\n",
       "      <td>2.026522e+05</td>\n",
       "      <td>87.000000</td>\n",
       "      <td>2.000000</td>\n",
       "      <td>8.800000</td>\n",
       "    </tr>\n",
       "    <tr>\n",
       "      <th>max</th>\n",
       "      <td>2019-06-30 00:00:00</td>\n",
       "      <td>272.000000</td>\n",
       "      <td>2.373711e+06</td>\n",
       "      <td>2.415841e+06</td>\n",
       "      <td>114.000000</td>\n",
       "      <td>5.000000</td>\n",
       "      <td>29.500000</td>\n",
       "    </tr>\n",
       "    <tr>\n",
       "      <th>std</th>\n",
       "      <td>NaN</td>\n",
       "      <td>76.786971</td>\n",
       "      <td>8.071520e+04</td>\n",
       "      <td>7.814760e+04</td>\n",
       "      <td>33.695235</td>\n",
       "      <td>0.342499</td>\n",
       "      <td>2.474897</td>\n",
       "    </tr>\n",
       "  </tbody>\n",
       "</table>\n",
       "</div>"
      ],
      "text/plain": [
       "                                DATE      STORE_NBR  LYLTY_CARD_NBR  \\\n",
       "count                         246740  246740.000000    2.467400e+05   \n",
       "mean   2018-12-30 01:18:58.448569344     135.050361    1.355303e+05   \n",
       "min              2018-07-01 00:00:00       1.000000    1.000000e+03   \n",
       "25%              2018-09-30 00:00:00      70.000000    7.001500e+04   \n",
       "50%              2018-12-30 00:00:00     130.000000    1.303670e+05   \n",
       "75%              2019-03-31 00:00:00     203.000000    2.030832e+05   \n",
       "max              2019-06-30 00:00:00     272.000000    2.373711e+06   \n",
       "std                              NaN      76.786971    8.071520e+04   \n",
       "\n",
       "             TXN_ID       PROD_NBR       PROD_QTY      TOT_SALES  \n",
       "count  2.467400e+05  246740.000000  246740.000000  246740.000000  \n",
       "mean   1.351304e+05      56.352213       1.906456       7.316113  \n",
       "min    1.000000e+00       1.000000       1.000000       1.700000  \n",
       "25%    6.756875e+04      26.000000       2.000000       5.800000  \n",
       "50%    1.351815e+05      53.000000       2.000000       7.400000  \n",
       "75%    2.026522e+05      87.000000       2.000000       8.800000  \n",
       "max    2.415841e+06     114.000000       5.000000      29.500000  \n",
       "std    7.814760e+04      33.695235       0.342499       2.474897  "
      ]
     },
     "execution_count": 69,
     "metadata": {},
     "output_type": "execute_result"
    }
   ],
   "source": [
    "transaction_data.describe()"
   ]
  },
  {
   "cell_type": "code",
   "execution_count": 70,
   "metadata": {},
   "outputs": [
    {
     "data": {
      "text/html": [
       "<div>\n",
       "<style scoped>\n",
       "    .dataframe tbody tr th:only-of-type {\n",
       "        vertical-align: middle;\n",
       "    }\n",
       "\n",
       "    .dataframe tbody tr th {\n",
       "        vertical-align: top;\n",
       "    }\n",
       "\n",
       "    .dataframe thead th {\n",
       "        text-align: right;\n",
       "    }\n",
       "</style>\n",
       "<table border=\"1\" class=\"dataframe\">\n",
       "  <thead>\n",
       "    <tr style=\"text-align: right;\">\n",
       "      <th></th>\n",
       "      <th>DATE</th>\n",
       "      <th>Total</th>\n",
       "    </tr>\n",
       "  </thead>\n",
       "  <tbody>\n",
       "    <tr>\n",
       "      <th>0</th>\n",
       "      <td>2018-12-24</td>\n",
       "      <td>865</td>\n",
       "    </tr>\n",
       "    <tr>\n",
       "      <th>1</th>\n",
       "      <td>2018-12-23</td>\n",
       "      <td>853</td>\n",
       "    </tr>\n",
       "    <tr>\n",
       "      <th>2</th>\n",
       "      <td>2018-12-22</td>\n",
       "      <td>840</td>\n",
       "    </tr>\n",
       "    <tr>\n",
       "      <th>3</th>\n",
       "      <td>2018-12-19</td>\n",
       "      <td>839</td>\n",
       "    </tr>\n",
       "    <tr>\n",
       "      <th>4</th>\n",
       "      <td>2018-12-20</td>\n",
       "      <td>808</td>\n",
       "    </tr>\n",
       "    <tr>\n",
       "      <th>...</th>\n",
       "      <td>...</td>\n",
       "      <td>...</td>\n",
       "    </tr>\n",
       "    <tr>\n",
       "      <th>359</th>\n",
       "      <td>2019-06-24</td>\n",
       "      <td>612</td>\n",
       "    </tr>\n",
       "    <tr>\n",
       "      <th>360</th>\n",
       "      <td>2018-10-18</td>\n",
       "      <td>611</td>\n",
       "    </tr>\n",
       "    <tr>\n",
       "      <th>361</th>\n",
       "      <td>2018-11-25</td>\n",
       "      <td>610</td>\n",
       "    </tr>\n",
       "    <tr>\n",
       "      <th>362</th>\n",
       "      <td>2018-09-22</td>\n",
       "      <td>609</td>\n",
       "    </tr>\n",
       "    <tr>\n",
       "      <th>363</th>\n",
       "      <td>2019-06-13</td>\n",
       "      <td>607</td>\n",
       "    </tr>\n",
       "  </tbody>\n",
       "</table>\n",
       "<p>364 rows × 2 columns</p>\n",
       "</div>"
      ],
      "text/plain": [
       "          DATE  Total\n",
       "0   2018-12-24    865\n",
       "1   2018-12-23    853\n",
       "2   2018-12-22    840\n",
       "3   2018-12-19    839\n",
       "4   2018-12-20    808\n",
       "..         ...    ...\n",
       "359 2019-06-24    612\n",
       "360 2018-10-18    611\n",
       "361 2018-11-25    610\n",
       "362 2018-09-22    609\n",
       "363 2019-06-13    607\n",
       "\n",
       "[364 rows x 2 columns]"
      ]
     },
     "execution_count": 70,
     "metadata": {},
     "output_type": "execute_result"
    }
   ],
   "source": [
    "# Create a dataset with sum of transactions per day\n",
    "transactions_by_D = pd.DataFrame(transaction_data.groupby('DATE').size().sort_values(ascending=False).reset_index(name = \"Total\"))\n",
    "transactions_by_D"
   ]
  },
  {
   "cell_type": "markdown",
   "metadata": {},
   "source": [
    "    There is only 364 rows, meaning only 364 dates which indicates a missing date. \n",
    "    \n",
    "    Lets create a sequence of dates from 1 Jul 2018 to 30 Jun 2019 and use this to create a chart of number of transactions over time to find the missing date."
   ]
  },
  {
   "cell_type": "code",
   "execution_count": 71,
   "metadata": {},
   "outputs": [
    {
     "data": {
      "text/html": [
       "<div>\n",
       "<style scoped>\n",
       "    .dataframe tbody tr th:only-of-type {\n",
       "        vertical-align: middle;\n",
       "    }\n",
       "\n",
       "    .dataframe tbody tr th {\n",
       "        vertical-align: top;\n",
       "    }\n",
       "\n",
       "    .dataframe thead th {\n",
       "        text-align: right;\n",
       "    }\n",
       "</style>\n",
       "<table border=\"1\" class=\"dataframe\">\n",
       "  <thead>\n",
       "    <tr style=\"text-align: right;\">\n",
       "      <th></th>\n",
       "      <th>DATE</th>\n",
       "      <th>Total</th>\n",
       "    </tr>\n",
       "  </thead>\n",
       "  <tbody>\n",
       "    <tr>\n",
       "      <th>177</th>\n",
       "      <td>2018-12-25</td>\n",
       "      <td>0.0</td>\n",
       "    </tr>\n",
       "    <tr>\n",
       "      <th>347</th>\n",
       "      <td>2019-06-13</td>\n",
       "      <td>607.0</td>\n",
       "    </tr>\n",
       "    <tr>\n",
       "      <th>83</th>\n",
       "      <td>2018-09-22</td>\n",
       "      <td>609.0</td>\n",
       "    </tr>\n",
       "    <tr>\n",
       "      <th>147</th>\n",
       "      <td>2018-11-25</td>\n",
       "      <td>610.0</td>\n",
       "    </tr>\n",
       "    <tr>\n",
       "      <th>109</th>\n",
       "      <td>2018-10-18</td>\n",
       "      <td>611.0</td>\n",
       "    </tr>\n",
       "    <tr>\n",
       "      <th>...</th>\n",
       "      <td>...</td>\n",
       "      <td>...</td>\n",
       "    </tr>\n",
       "    <tr>\n",
       "      <th>172</th>\n",
       "      <td>2018-12-20</td>\n",
       "      <td>808.0</td>\n",
       "    </tr>\n",
       "    <tr>\n",
       "      <th>171</th>\n",
       "      <td>2018-12-19</td>\n",
       "      <td>839.0</td>\n",
       "    </tr>\n",
       "    <tr>\n",
       "      <th>174</th>\n",
       "      <td>2018-12-22</td>\n",
       "      <td>840.0</td>\n",
       "    </tr>\n",
       "    <tr>\n",
       "      <th>175</th>\n",
       "      <td>2018-12-23</td>\n",
       "      <td>853.0</td>\n",
       "    </tr>\n",
       "    <tr>\n",
       "      <th>176</th>\n",
       "      <td>2018-12-24</td>\n",
       "      <td>865.0</td>\n",
       "    </tr>\n",
       "  </tbody>\n",
       "</table>\n",
       "<p>365 rows × 2 columns</p>\n",
       "</div>"
      ],
      "text/plain": [
       "          DATE  Total\n",
       "177 2018-12-25    0.0\n",
       "347 2019-06-13  607.0\n",
       "83  2018-09-22  609.0\n",
       "147 2018-11-25  610.0\n",
       "109 2018-10-18  611.0\n",
       "..         ...    ...\n",
       "172 2018-12-20  808.0\n",
       "171 2018-12-19  839.0\n",
       "174 2018-12-22  840.0\n",
       "175 2018-12-23  853.0\n",
       "176 2018-12-24  865.0\n",
       "\n",
       "[365 rows x 2 columns]"
      ]
     },
     "execution_count": 71,
     "metadata": {},
     "output_type": "execute_result"
    }
   ],
   "source": [
    "# Find the missing date\n",
    "full_dates = pd.DataFrame({\n",
    "    'DATE': pd.date_range(start='2018-07-01', end='2019-06-30')})\n",
    "\n",
    "merged_data = pd.merge(full_dates, transactions_by_D, on = 'DATE', how = 'left')\n",
    "merged_data['Total'] = merged_data['Total'].fillna(0)\n",
    "merged_data.sort_values(by= 'Total', ascending = True)"
   ]
  },
  {
   "cell_type": "markdown",
   "metadata": {},
   "source": [
    "    We found that the missing date is on 2018-12-25. It is the Christmas day. "
   ]
  },
  {
   "cell_type": "code",
   "execution_count": 132,
   "metadata": {},
   "outputs": [
    {
     "data": {
      "image/png": "[encoded data removed]",
      "text/plain": [
       "<Figure size 1200x600 with 1 Axes>"
      ]
     },
     "metadata": {},
     "output_type": "display_data"
    }
   ],
   "source": [
    "# Display number of transactions per day\n",
    "plt.figure(figsize=(12, 6))  # Set the figure size\n",
    "\n",
    "# Create the line plot; NaNs won't be handled automatically here\n",
    "sns.lineplot(data=merged_data, x='DATE', y='Total', color='navy')\n",
    "\n",
    "# Add labels and title\n",
    "plt.xlabel(\"Day\")\n",
    "plt.ylabel(\"Number of transactions\")\n",
    "plt.title(\"Transactions over time\")\n",
    "\n",
    "# Format the date for better readability\n",
    "plt.gcf().autofmt_xdate() \n",
    "\n",
    "# Show the plot \n",
    "plt.show() "
   ]
  },
  {
   "cell_type": "markdown",
   "metadata": {},
   "source": [
    "    We can see that there is an increase in purchases in December and a break in late December. "
   ]
  },
  {
   "cell_type": "code",
   "execution_count": 73,
   "metadata": {},
   "outputs": [
    {
     "data": {
      "image/png": "[encoded data removed]",
      "text/plain": [
       "<Figure size 1200x600 with 1 Axes>"
      ]
     },
     "metadata": {},
     "output_type": "display_data"
    }
   ],
   "source": [
    "december_data = merged_data[merged_data['DATE'].dt.month == 12]\n",
    "\n",
    "# Display number of transactions per day\n",
    "plt.figure(figsize=(12, 6))  # Set the figure size\n",
    "\n",
    "# Step 2: Create the line plot\n",
    "sns.lineplot(data=december_data, x='DATE', y='Total', color = 'Red')\n",
    "\n",
    "# Add labels and title\n",
    "plt.xlabel(\"Day\")\n",
    "plt.ylabel(\"Number of Transactions\")\n",
    "plt.title(\"Transactions in December\")\n",
    "\n",
    "# Format the date for better readability\n",
    "plt.gcf().autofmt_xdate() \n",
    "\n",
    "# Show the plot \n",
    "plt.show()"
   ]
  },
  {
   "cell_type": "markdown",
   "metadata": {},
   "source": [
    "    We can see that the increase in sales occurs in the lead-up to Christmas and that there are zero sales on\n",
    "    Christmas day itself. This is due to shops being closed on Christmas day.\n",
    "\n",
    "    Now that we are satisfied that the data no longer has outliers, we can move on to creating other features\n",
    "    such as brand of chips or pack size from PROD_NAME. We will start with pack size.\n"
   ]
  },
  {
   "cell_type": "code",
   "execution_count": 74,
   "metadata": {},
   "outputs": [
    {
     "name": "stderr",
     "output_type": "stream",
     "text": [
      "<>:2: SyntaxWarning:\n",
      "\n",
      "invalid escape sequence '\\d'\n",
      "\n",
      "<>:2: SyntaxWarning:\n",
      "\n",
      "invalid escape sequence '\\d'\n",
      "\n",
      "C:\\Users\\PC\\AppData\\Local\\Temp\\ipykernel_9776\\1610834056.py:2: SyntaxWarning:\n",
      "\n",
      "invalid escape sequence '\\d'\n",
      "\n"
     ]
    }
   ],
   "source": [
    "# Extract words that include numbers\n",
    "transaction_data['PACK_SIZE'] = transaction_data['PROD_NAME'].str.extract('(\\d+)').astype(int)"
   ]
  },
  {
   "cell_type": "code",
   "execution_count": 75,
   "metadata": {},
   "outputs": [],
   "source": [
    "# Frequency of PACK_SIZE\n",
    "transactions_by_PACK_SZIE = transaction_data.groupby('PACK_SIZE').size().sort_values(ascending= False).reset_index(name = 'Total')"
   ]
  },
  {
   "cell_type": "code",
   "execution_count": 133,
   "metadata": {},
   "outputs": [
    {
     "data": {
      "image/png": "[encoded data removed]",
      "text/plain": [
       "<Figure size 1200x600 with 1 Axes>"
      ]
     },
     "metadata": {},
     "output_type": "display_data"
    }
   ],
   "source": [
    "# Display the plot\n",
    "\n",
    "plt.figure(figsize=(12, 6))\n",
    "sns.barplot(data=transactions_by_PACK_SZIE, x='PACK_SIZE', y='Total', color='indigo')\n",
    "plt.title('Frequency of PACK_SIZE')\n",
    "plt.xlabel('Pack Size (g)')\n",
    "plt.ylabel('Number of Transactions')\n",
    "plt.xticks(rotation=45)\n",
    "\n",
    "plt.show()"
   ]
  },
  {
   "cell_type": "markdown",
   "metadata": {},
   "source": [
    "    Pack sizes created look reasonable and now to create brands, we can use the first word in PROD_NAME to work out the brand names."
   ]
  },
  {
   "cell_type": "code",
   "execution_count": 77,
   "metadata": {},
   "outputs": [],
   "source": [
    "# Extract BRAND_NAME\n",
    "transaction_data['BRAND_NAME'] = transaction_data['PROD_NAME'].str.split().str[0]"
   ]
  },
  {
   "cell_type": "code",
   "execution_count": 97,
   "metadata": {},
   "outputs": [],
   "source": [
    "# Checking brands\n",
    "transaction_data.groupby('BRAND_NAME').size().reset_index(name= 'Frequency')"
   ]
  },
  {
   "cell_type": "markdown",
   "metadata": {},
   "source": [
    "    Okay, here we got many BRAND_NAMEs that are the same as other. That include: Red = RRD, Sunbites = Snbts, Infuzions = Infzns, Woolworths = WW, Smiths = Smith, Natural = NCC, Doritos = Dorito, Grain = GrnWves"
   ]
  },
  {
   "cell_type": "code",
   "execution_count": 79,
   "metadata": {},
   "outputs": [],
   "source": [
    "# Clean brand names\n",
    "transaction_data['BRAND_NAME'] = transaction_data['BRAND_NAME'].replace({\n",
    "    \"Red\": \"RRD\",\n",
    "    \"Snbts\": \"Sunbites\",\n",
    "    \"Infzns\": \"Infuzions\",\n",
    "    \"WW\": \"Woolworths\",\n",
    "    \"Smith\": \"Smiths\",\n",
    "    \"NCC\": \"Natural\",\n",
    "    \"Dorito\": \"Doritos\"\n",
    "})"
   ]
  },
  {
   "cell_type": "code",
   "execution_count": 118,
   "metadata": {},
   "outputs": [],
   "source": [
    "# Checking brands\n",
    "brands_data = transaction_data.groupby('BRAND_NAME').size().sort_values(ascending=False).reset_index(name= 'Frequency')"
   ]
  },
  {
   "cell_type": "markdown",
   "metadata": {},
   "source": [
    "***customer_data dataset***"
   ]
  },
  {
   "cell_type": "code",
   "execution_count": 81,
   "metadata": {},
   "outputs": [
    {
     "data": {
      "text/plain": [
       "LYLTY_CARD_NBR       int64\n",
       "LIFESTAGE           object\n",
       "PREMIUM_CUSTOMER    object\n",
       "dtype: object"
      ]
     },
     "execution_count": 81,
     "metadata": {},
     "output_type": "execute_result"
    }
   ],
   "source": [
    "customer_data.dtypes"
   ]
  },
  {
   "cell_type": "code",
   "execution_count": 82,
   "metadata": {},
   "outputs": [
    {
     "data": {
      "text/html": [
       "<div>\n",
       "<style scoped>\n",
       "    .dataframe tbody tr th:only-of-type {\n",
       "        vertical-align: middle;\n",
       "    }\n",
       "\n",
       "    .dataframe tbody tr th {\n",
       "        vertical-align: top;\n",
       "    }\n",
       "\n",
       "    .dataframe thead th {\n",
       "        text-align: right;\n",
       "    }\n",
       "</style>\n",
       "<table border=\"1\" class=\"dataframe\">\n",
       "  <thead>\n",
       "    <tr style=\"text-align: right;\">\n",
       "      <th></th>\n",
       "      <th>LYLTY_CARD_NBR</th>\n",
       "    </tr>\n",
       "  </thead>\n",
       "  <tbody>\n",
       "    <tr>\n",
       "      <th>count</th>\n",
       "      <td>7.263700e+04</td>\n",
       "    </tr>\n",
       "    <tr>\n",
       "      <th>mean</th>\n",
       "      <td>1.361859e+05</td>\n",
       "    </tr>\n",
       "    <tr>\n",
       "      <th>std</th>\n",
       "      <td>8.989293e+04</td>\n",
       "    </tr>\n",
       "    <tr>\n",
       "      <th>min</th>\n",
       "      <td>1.000000e+03</td>\n",
       "    </tr>\n",
       "    <tr>\n",
       "      <th>25%</th>\n",
       "      <td>6.620200e+04</td>\n",
       "    </tr>\n",
       "    <tr>\n",
       "      <th>50%</th>\n",
       "      <td>1.340400e+05</td>\n",
       "    </tr>\n",
       "    <tr>\n",
       "      <th>75%</th>\n",
       "      <td>2.033750e+05</td>\n",
       "    </tr>\n",
       "    <tr>\n",
       "      <th>max</th>\n",
       "      <td>2.373711e+06</td>\n",
       "    </tr>\n",
       "  </tbody>\n",
       "</table>\n",
       "</div>"
      ],
      "text/plain": [
       "       LYLTY_CARD_NBR\n",
       "count    7.263700e+04\n",
       "mean     1.361859e+05\n",
       "std      8.989293e+04\n",
       "min      1.000000e+03\n",
       "25%      6.620200e+04\n",
       "50%      1.340400e+05\n",
       "75%      2.033750e+05\n",
       "max      2.373711e+06"
      ]
     },
     "execution_count": 82,
     "metadata": {},
     "output_type": "execute_result"
    }
   ],
   "source": [
    "customer_data.describe()"
   ]
  },
  {
   "cell_type": "code",
   "execution_count": 83,
   "metadata": {},
   "outputs": [
    {
     "data": {
      "text/plain": [
       "LIFESTAGE\n",
       "RETIREES                  14805\n",
       "OLDER SINGLES/COUPLES     14609\n",
       "YOUNG SINGLES/COUPLES     14441\n",
       "OLDER FAMILIES             9780\n",
       "YOUNG FAMILIES             9178\n",
       "MIDAGE SINGLES/COUPLES     7275\n",
       "NEW FAMILIES               2549\n",
       "dtype: int64"
      ]
     },
     "execution_count": 83,
     "metadata": {},
     "output_type": "execute_result"
    }
   ],
   "source": [
    "# Examine the values of lifestage\n",
    "customer_data.groupby('LIFESTAGE').size().sort_values(ascending=False)\n"
   ]
  },
  {
   "cell_type": "code",
   "execution_count": 84,
   "metadata": {},
   "outputs": [
    {
     "data": {
      "text/plain": [
       "PREMIUM_CUSTOMER\n",
       "Mainstream    29245\n",
       "Budget        24470\n",
       "Premium       18922\n",
       "dtype: int64"
      ]
     },
     "execution_count": 84,
     "metadata": {},
     "output_type": "execute_result"
    }
   ],
   "source": [
    "# Examine the values of premium_customer\n",
    "customer_data.groupby('PREMIUM_CUSTOMER').size().sort_values(ascending=False)"
   ]
  },
  {
   "cell_type": "markdown",
   "metadata": {},
   "source": [
    "    As there do not seem to be any issues with the customer data, we can now go ahead and join the transaction and customer data sets together"
   ]
  },
  {
   "cell_type": "markdown",
   "metadata": {},
   "source": [
    "**Set primary keys for 2 dataset: transaction_data and customer_data and merge this ones**"
   ]
  },
  {
   "cell_type": "code",
   "execution_count": 85,
   "metadata": {},
   "outputs": [],
   "source": [
    "# Set the index of customer_data to 'LYLTY_CARD_NBR'\n",
    "customer_data.set_index('LYLTY_CARD_NBR', inplace=True)\n",
    "\n",
    "# Set the index of transaction_data to 'TXN_ID'\n",
    "transaction_data.set_index('TXN_ID', inplace=True)"
   ]
  },
  {
   "cell_type": "code",
   "execution_count": 86,
   "metadata": {},
   "outputs": [
    {
     "data": {
      "text/html": [
       "<div>\n",
       "<style scoped>\n",
       "    .dataframe tbody tr th:only-of-type {\n",
       "        vertical-align: middle;\n",
       "    }\n",
       "\n",
       "    .dataframe tbody tr th {\n",
       "        vertical-align: top;\n",
       "    }\n",
       "\n",
       "    .dataframe thead th {\n",
       "        text-align: right;\n",
       "    }\n",
       "</style>\n",
       "<table border=\"1\" class=\"dataframe\">\n",
       "  <thead>\n",
       "    <tr style=\"text-align: right;\">\n",
       "      <th></th>\n",
       "      <th>DATE</th>\n",
       "      <th>STORE_NBR</th>\n",
       "      <th>LYLTY_CARD_NBR</th>\n",
       "      <th>PROD_NBR</th>\n",
       "      <th>PROD_NAME</th>\n",
       "      <th>PROD_QTY</th>\n",
       "      <th>TOT_SALES</th>\n",
       "      <th>PACK_SIZE</th>\n",
       "      <th>BRAND_NAME</th>\n",
       "      <th>LIFESTAGE</th>\n",
       "      <th>PREMIUM_CUSTOMER</th>\n",
       "    </tr>\n",
       "  </thead>\n",
       "  <tbody>\n",
       "    <tr>\n",
       "      <th>0</th>\n",
       "      <td>2018-10-17</td>\n",
       "      <td>1</td>\n",
       "      <td>1000</td>\n",
       "      <td>5</td>\n",
       "      <td>Natural Chip        Compny SeaSalt175g</td>\n",
       "      <td>2</td>\n",
       "      <td>6.0</td>\n",
       "      <td>175</td>\n",
       "      <td>Natural</td>\n",
       "      <td>YOUNG SINGLES/COUPLES</td>\n",
       "      <td>Premium</td>\n",
       "    </tr>\n",
       "    <tr>\n",
       "      <th>1</th>\n",
       "      <td>2019-05-14</td>\n",
       "      <td>1</td>\n",
       "      <td>1307</td>\n",
       "      <td>66</td>\n",
       "      <td>CCs Nacho Cheese    175g</td>\n",
       "      <td>3</td>\n",
       "      <td>6.3</td>\n",
       "      <td>175</td>\n",
       "      <td>CCs</td>\n",
       "      <td>MIDAGE SINGLES/COUPLES</td>\n",
       "      <td>Budget</td>\n",
       "    </tr>\n",
       "    <tr>\n",
       "      <th>2</th>\n",
       "      <td>2019-05-20</td>\n",
       "      <td>1</td>\n",
       "      <td>1343</td>\n",
       "      <td>61</td>\n",
       "      <td>Smiths Crinkle Cut  Chips Chicken 170g</td>\n",
       "      <td>2</td>\n",
       "      <td>2.9</td>\n",
       "      <td>170</td>\n",
       "      <td>Smiths</td>\n",
       "      <td>MIDAGE SINGLES/COUPLES</td>\n",
       "      <td>Budget</td>\n",
       "    </tr>\n",
       "    <tr>\n",
       "      <th>3</th>\n",
       "      <td>2018-08-17</td>\n",
       "      <td>2</td>\n",
       "      <td>2373</td>\n",
       "      <td>69</td>\n",
       "      <td>Smiths Chip Thinly  S/Cream&amp;Onion 175g</td>\n",
       "      <td>5</td>\n",
       "      <td>15.0</td>\n",
       "      <td>175</td>\n",
       "      <td>Smiths</td>\n",
       "      <td>MIDAGE SINGLES/COUPLES</td>\n",
       "      <td>Budget</td>\n",
       "    </tr>\n",
       "    <tr>\n",
       "      <th>4</th>\n",
       "      <td>2018-08-18</td>\n",
       "      <td>2</td>\n",
       "      <td>2426</td>\n",
       "      <td>108</td>\n",
       "      <td>Kettle Tortilla ChpsHny&amp;Jlpno Chili 150g</td>\n",
       "      <td>3</td>\n",
       "      <td>13.8</td>\n",
       "      <td>150</td>\n",
       "      <td>Kettle</td>\n",
       "      <td>MIDAGE SINGLES/COUPLES</td>\n",
       "      <td>Budget</td>\n",
       "    </tr>\n",
       "  </tbody>\n",
       "</table>\n",
       "</div>"
      ],
      "text/plain": [
       "        DATE  STORE_NBR  LYLTY_CARD_NBR  PROD_NBR  \\\n",
       "0 2018-10-17          1            1000         5   \n",
       "1 2019-05-14          1            1307        66   \n",
       "2 2019-05-20          1            1343        61   \n",
       "3 2018-08-17          2            2373        69   \n",
       "4 2018-08-18          2            2426       108   \n",
       "\n",
       "                                  PROD_NAME  PROD_QTY  TOT_SALES  PACK_SIZE  \\\n",
       "0    Natural Chip        Compny SeaSalt175g         2        6.0        175   \n",
       "1                  CCs Nacho Cheese    175g         3        6.3        175   \n",
       "2    Smiths Crinkle Cut  Chips Chicken 170g         2        2.9        170   \n",
       "3    Smiths Chip Thinly  S/Cream&Onion 175g         5       15.0        175   \n",
       "4  Kettle Tortilla ChpsHny&Jlpno Chili 150g         3       13.8        150   \n",
       "\n",
       "  BRAND_NAME               LIFESTAGE PREMIUM_CUSTOMER  \n",
       "0    Natural   YOUNG SINGLES/COUPLES          Premium  \n",
       "1        CCs  MIDAGE SINGLES/COUPLES           Budget  \n",
       "2     Smiths  MIDAGE SINGLES/COUPLES           Budget  \n",
       "3     Smiths  MIDAGE SINGLES/COUPLES           Budget  \n",
       "4     Kettle  MIDAGE SINGLES/COUPLES           Budget  "
      ]
     },
     "execution_count": 86,
     "metadata": {},
     "output_type": "execute_result"
    }
   ],
   "source": [
    "# Merge two dataset before analyzing\n",
    "df = pd.merge(transaction_data, customer_data, on = 'LYLTY_CARD_NBR')\n",
    "df.head(5)"
   ]
  },
  {
   "cell_type": "code",
   "execution_count": 87,
   "metadata": {},
   "outputs": [
    {
     "data": {
      "text/plain": [
       "DATE                0\n",
       "STORE_NBR           0\n",
       "LYLTY_CARD_NBR      0\n",
       "PROD_NBR            0\n",
       "PROD_NAME           0\n",
       "PROD_QTY            0\n",
       "TOT_SALES           0\n",
       "PACK_SIZE           0\n",
       "BRAND_NAME          0\n",
       "LIFESTAGE           0\n",
       "PREMIUM_CUSTOMER    0\n",
       "dtype: int64"
      ]
     },
     "execution_count": 87,
     "metadata": {},
     "output_type": "execute_result"
    }
   ],
   "source": [
    "# Check\n",
    "df.isnull().sum()"
   ]
  },
  {
   "cell_type": "markdown",
   "metadata": {},
   "source": [
    "**DATA ANALYZING**"
   ]
  },
  {
   "cell_type": "markdown",
   "metadata": {},
   "source": [
    "***Proportion of total sales by 'LIFESTAGE' and 'PREMIUM_CUSTOMER'***"
   ]
  },
  {
   "cell_type": "code",
   "execution_count": 93,
   "metadata": {},
   "outputs": [
    {
     "data": {
      "text/html": [
       "<div>\n",
       "<style scoped>\n",
       "    .dataframe tbody tr th:only-of-type {\n",
       "        vertical-align: middle;\n",
       "    }\n",
       "\n",
       "    .dataframe tbody tr th {\n",
       "        vertical-align: top;\n",
       "    }\n",
       "\n",
       "    .dataframe thead th {\n",
       "        text-align: right;\n",
       "    }\n",
       "</style>\n",
       "<table border=\"1\" class=\"dataframe\">\n",
       "  <thead>\n",
       "    <tr style=\"text-align: right;\">\n",
       "      <th></th>\n",
       "      <th>LIFESTAGE</th>\n",
       "      <th>PREMIUM_CUSTOMER</th>\n",
       "      <th>SALES</th>\n",
       "      <th>PROPORTION</th>\n",
       "    </tr>\n",
       "  </thead>\n",
       "  <tbody>\n",
       "    <tr>\n",
       "      <th>0</th>\n",
       "      <td>MIDAGE SINGLES/COUPLES</td>\n",
       "      <td>Budget</td>\n",
       "      <td>33345.70</td>\n",
       "      <td>1.85</td>\n",
       "    </tr>\n",
       "    <tr>\n",
       "      <th>1</th>\n",
       "      <td>MIDAGE SINGLES/COUPLES</td>\n",
       "      <td>Mainstream</td>\n",
       "      <td>84734.25</td>\n",
       "      <td>4.69</td>\n",
       "    </tr>\n",
       "    <tr>\n",
       "      <th>2</th>\n",
       "      <td>MIDAGE SINGLES/COUPLES</td>\n",
       "      <td>Premium</td>\n",
       "      <td>54443.85</td>\n",
       "      <td>3.02</td>\n",
       "    </tr>\n",
       "    <tr>\n",
       "      <th>3</th>\n",
       "      <td>NEW FAMILIES</td>\n",
       "      <td>Budget</td>\n",
       "      <td>20607.45</td>\n",
       "      <td>1.14</td>\n",
       "    </tr>\n",
       "    <tr>\n",
       "      <th>4</th>\n",
       "      <td>NEW FAMILIES</td>\n",
       "      <td>Mainstream</td>\n",
       "      <td>15979.70</td>\n",
       "      <td>0.89</td>\n",
       "    </tr>\n",
       "    <tr>\n",
       "      <th>5</th>\n",
       "      <td>NEW FAMILIES</td>\n",
       "      <td>Premium</td>\n",
       "      <td>10760.80</td>\n",
       "      <td>0.60</td>\n",
       "    </tr>\n",
       "    <tr>\n",
       "      <th>6</th>\n",
       "      <td>OLDER FAMILIES</td>\n",
       "      <td>Budget</td>\n",
       "      <td>156863.75</td>\n",
       "      <td>8.69</td>\n",
       "    </tr>\n",
       "    <tr>\n",
       "      <th>7</th>\n",
       "      <td>OLDER FAMILIES</td>\n",
       "      <td>Mainstream</td>\n",
       "      <td>96413.55</td>\n",
       "      <td>5.34</td>\n",
       "    </tr>\n",
       "    <tr>\n",
       "      <th>8</th>\n",
       "      <td>OLDER FAMILIES</td>\n",
       "      <td>Premium</td>\n",
       "      <td>75242.60</td>\n",
       "      <td>4.17</td>\n",
       "    </tr>\n",
       "    <tr>\n",
       "      <th>9</th>\n",
       "      <td>OLDER SINGLES/COUPLES</td>\n",
       "      <td>Budget</td>\n",
       "      <td>127833.60</td>\n",
       "      <td>7.08</td>\n",
       "    </tr>\n",
       "  </tbody>\n",
       "</table>\n",
       "</div>"
      ],
      "text/plain": [
       "                LIFESTAGE PREMIUM_CUSTOMER      SALES  PROPORTION\n",
       "0  MIDAGE SINGLES/COUPLES           Budget   33345.70        1.85\n",
       "1  MIDAGE SINGLES/COUPLES       Mainstream   84734.25        4.69\n",
       "2  MIDAGE SINGLES/COUPLES          Premium   54443.85        3.02\n",
       "3            NEW FAMILIES           Budget   20607.45        1.14\n",
       "4            NEW FAMILIES       Mainstream   15979.70        0.89\n",
       "5            NEW FAMILIES          Premium   10760.80        0.60\n",
       "6          OLDER FAMILIES           Budget  156863.75        8.69\n",
       "7          OLDER FAMILIES       Mainstream   96413.55        5.34\n",
       "8          OLDER FAMILIES          Premium   75242.60        4.17\n",
       "9   OLDER SINGLES/COUPLES           Budget  127833.60        7.08"
      ]
     },
     "execution_count": 94,
     "metadata": {},
     "output_type": "execute_result"
    }
   ],
   "source": [
    "# Create total sales by 'LIFESTAGE' and 'PREMIUM_CUSTOMER' dataset\n",
    "sales_data = df.groupby(['LIFESTAGE', 'PREMIUM_CUSTOMER']).agg(SALES = ('TOT_SALES', 'sum')).reset_index()\n",
    "\n",
    "# Caculate the proportion\n",
    "sales_data['PROPORTION'] = (sales_data['SALES']/sales_data['SALES'].sum()*100).round(2)\n",
    "\n",
    "sales_data.head(10)"
   ]
  },
  {
   "cell_type": "code",
   "execution_count": 50,
   "metadata": {},
   "outputs": [
    {
     "data": {
      "application/vnd.plotly.v1+json": {
       "config": {
        "plotlyServerURL": "https://plot.ly"
       },
       "data": [
        {
         "hole": 0.3,
         "labels": [
          "MIDAGE SINGLES/COUPLES",
          "NEW FAMILIES",
          "OLDER FAMILIES",
          "OLDER SINGLES/COUPLES",
          "RETIREES",
          "YOUNG FAMILIES",
          "YOUNG SINGLES/COUPLES"
         ],
         "type": "pie",
         "values": [
          172523.8,
          47347.95,
          328519.9,
          376019.65,
          342381.9,
          294627.9,
          243756.60000000003
         ]
        }
       ],
       "layout": {
        "template": {
         "data": {
          "bar": [
           {
            "error_x": {
             "color": "#2a3f5f"
            },
            "error_y": {
             "color": "#2a3f5f"
            },
            "marker": {
             "line": {
              "color": "#E5ECF6",
              "width": 0.5
             },
             "pattern": {
              "fillmode": "overlay",
              "size": 10,
              "solidity": 0.2
             }
            },
            "type": "bar"
           }
          ],
          "barpolar": [
           {
            "marker": {
             "line": {
              "color": "#E5ECF6",
              "width": 0.5
             },
             "pattern": {
              "fillmode": "overlay",
              "size": 10,
              "solidity": 0.2
             }
            },
            "type": "barpolar"
           }
          ],
          "carpet": [
           {
            "aaxis": {
             "endlinecolor": "#2a3f5f",
             "gridcolor": "white",
             "linecolor": "white",
             "minorgridcolor": "white",
             "startlinecolor": "#2a3f5f"
            },
            "baxis": {
             "endlinecolor": "#2a3f5f",
             "gridcolor": "white",
             "linecolor": "white",
             "minorgridcolor": "white",
             "startlinecolor": "#2a3f5f"
            },
            "type": "carpet"
           }
          ],
          "choropleth": [
           {
            "colorbar": {
             "outlinewidth": 0,
             "ticks": ""
            },
            "type": "choropleth"
           }
          ],
          "contour": [
           {
            "colorbar": {
             "outlinewidth": 0,
             "ticks": ""
            },
            "colorscale": [
             [
              0,
              "#0d0887"
             ],
             [
              0.1111111111111111,
              "#46039f"
             ],
             [
              0.2222222222222222,
              "#7201a8"
             ],
             [
              0.3333333333333333,
              "#9c179e"
             ],
             [
              0.4444444444444444,
              "#bd3786"
             ],
             [
              0.5555555555555556,
              "#d8576b"
             ],
             [
              0.6666666666666666,
              "#ed7953"
             ],
             [
              0.7777777777777778,
              "#fb9f3a"
             ],
             [
              0.8888888888888888,
              "#fdca26"
             ],
             [
              1,
              "#f0f921"
             ]
            ],
            "type": "contour"
           }
          ],
          "contourcarpet": [
           {
            "colorbar": {
             "outlinewidth": 0,
             "ticks": ""
            },
            "type": "contourcarpet"
           }
          ],
          "heatmap": [
           {
            "colorbar": {
             "outlinewidth": 0,
             "ticks": ""
            },
            "colorscale": [
             [
              0,
              "#0d0887"
             ],
             [
              0.1111111111111111,
              "#46039f"
             ],
             [
              0.2222222222222222,
              "#7201a8"
             ],
             [
              0.3333333333333333,
              "#9c179e"
             ],
             [
              0.4444444444444444,
              "#bd3786"
             ],
             [
              0.5555555555555556,
              "#d8576b"
             ],
             [
              0.6666666666666666,
              "#ed7953"
             ],
             [
              0.7777777777777778,
              "#fb9f3a"
             ],
             [
              0.8888888888888888,
              "#fdca26"
             ],
             [
              1,
              "#f0f921"
             ]
            ],
            "type": "heatmap"
           }
          ],
          "heatmapgl": [
           {
            "colorbar": {
             "outlinewidth": 0,
             "ticks": ""
            },
            "colorscale": [
             [
              0,
              "#0d0887"
             ],
             [
              0.1111111111111111,
              "#46039f"
             ],
             [
              0.2222222222222222,
              "#7201a8"
             ],
             [
              0.3333333333333333,
              "#9c179e"
             ],
             [
              0.4444444444444444,
              "#bd3786"
             ],
             [
              0.5555555555555556,
              "#d8576b"
             ],
             [
              0.6666666666666666,
              "#ed7953"
             ],
             [
              0.7777777777777778,
              "#fb9f3a"
             ],
             [
              0.8888888888888888,
              "#fdca26"
             ],
             [
              1,
              "#f0f921"
             ]
            ],
            "type": "heatmapgl"
           }
          ],
          "histogram": [
           {
            "marker": {
             "pattern": {
              "fillmode": "overlay",
              "size": 10,
              "solidity": 0.2
             }
            },
            "type": "histogram"
           }
          ],
          "histogram2d": [
           {
            "colorbar": {
             "outlinewidth": 0,
             "ticks": ""
            },
            "colorscale": [
             [
              0,
              "#0d0887"
             ],
             [
              0.1111111111111111,
              "#46039f"
             ],
             [
              0.2222222222222222,
              "#7201a8"
             ],
             [
              0.3333333333333333,
              "#9c179e"
             ],
             [
              0.4444444444444444,
              "#bd3786"
             ],
             [
              0.5555555555555556,
              "#d8576b"
             ],
             [
              0.6666666666666666,
              "#ed7953"
             ],
             [
              0.7777777777777778,
              "#fb9f3a"
             ],
             [
              0.8888888888888888,
              "#fdca26"
             ],
             [
              1,
              "#f0f921"
             ]
            ],
            "type": "histogram2d"
           }
          ],
          "histogram2dcontour": [
           {
            "colorbar": {
             "outlinewidth": 0,
             "ticks": ""
            },
            "colorscale": [
             [
              0,
              "#0d0887"
             ],
             [
              0.1111111111111111,
              "#46039f"
             ],
             [
              0.2222222222222222,
              "#7201a8"
             ],
             [
              0.3333333333333333,
              "#9c179e"
             ],
             [
              0.4444444444444444,
              "#bd3786"
             ],
             [
              0.5555555555555556,
              "#d8576b"
             ],
             [
              0.6666666666666666,
              "#ed7953"
             ],
             [
              0.7777777777777778,
              "#fb9f3a"
             ],
             [
              0.8888888888888888,
              "#fdca26"
             ],
             [
              1,
              "#f0f921"
             ]
            ],
            "type": "histogram2dcontour"
           }
          ],
          "mesh3d": [
           {
            "colorbar": {
             "outlinewidth": 0,
             "ticks": ""
            },
            "type": "mesh3d"
           }
          ],
          "parcoords": [
           {
            "line": {
             "colorbar": {
              "outlinewidth": 0,
              "ticks": ""
             }
            },
            "type": "parcoords"
           }
          ],
          "pie": [
           {
            "automargin": true,
            "type": "pie"
           }
          ],
          "scatter": [
           {
            "fillpattern": {
             "fillmode": "overlay",
             "size": 10,
             "solidity": 0.2
            },
            "type": "scatter"
           }
          ],
          "scatter3d": [
           {
            "line": {
             "colorbar": {
              "outlinewidth": 0,
              "ticks": ""
             }
            },
            "marker": {
             "colorbar": {
              "outlinewidth": 0,
              "ticks": ""
             }
            },
            "type": "scatter3d"
           }
          ],
          "scattercarpet": [
           {
            "marker": {
             "colorbar": {
              "outlinewidth": 0,
              "ticks": ""
             }
            },
            "type": "scattercarpet"
           }
          ],
          "scattergeo": [
           {
            "marker": {
             "colorbar": {
              "outlinewidth": 0,
              "ticks": ""
             }
            },
            "type": "scattergeo"
           }
          ],
          "scattergl": [
           {
            "marker": {
             "colorbar": {
              "outlinewidth": 0,
              "ticks": ""
             }
            },
            "type": "scattergl"
           }
          ],
          "scattermapbox": [
           {
            "marker": {
             "colorbar": {
              "outlinewidth": 0,
              "ticks": ""
             }
            },
            "type": "scattermapbox"
           }
          ],
          "scatterpolar": [
           {
            "marker": {
             "colorbar": {
              "outlinewidth": 0,
              "ticks": ""
             }
            },
            "type": "scatterpolar"
           }
          ],
          "scatterpolargl": [
           {
            "marker": {
             "colorbar": {
              "outlinewidth": 0,
              "ticks": ""
             }
            },
            "type": "scatterpolargl"
           }
          ],
          "scatterternary": [
           {
            "marker": {
             "colorbar": {
              "outlinewidth": 0,
              "ticks": ""
             }
            },
            "type": "scatterternary"
           }
          ],
          "surface": [
           {
            "colorbar": {
             "outlinewidth": 0,
             "ticks": ""
            },
            "colorscale": [
             [
              0,
              "#0d0887"
             ],
             [
              0.1111111111111111,
              "#46039f"
             ],
             [
              0.2222222222222222,
              "#7201a8"
             ],
             [
              0.3333333333333333,
              "#9c179e"
             ],
             [
              0.4444444444444444,
              "#bd3786"
             ],
             [
              0.5555555555555556,
              "#d8576b"
             ],
             [
              0.6666666666666666,
              "#ed7953"
             ],
             [
              0.7777777777777778,
              "#fb9f3a"
             ],
             [
              0.8888888888888888,
              "#fdca26"
             ],
             [
              1,
              "#f0f921"
             ]
            ],
            "type": "surface"
           }
          ],
          "table": [
           {
            "cells": {
             "fill": {
              "color": "#EBF0F8"
             },
             "line": {
              "color": "white"
             }
            },
            "header": {
             "fill": {
              "color": "#C8D4E3"
             },
             "line": {
              "color": "white"
             }
            },
            "type": "table"
           }
          ]
         },
         "layout": {
          "annotationdefaults": {
           "arrowcolor": "#2a3f5f",
           "arrowhead": 0,
           "arrowwidth": 1
          },
          "autotypenumbers": "strict",
          "coloraxis": {
           "colorbar": {
            "outlinewidth": 0,
            "ticks": ""
           }
          },
          "colorscale": {
           "diverging": [
            [
             0,
             "#8e0152"
            ],
            [
             0.1,
             "#c51b7d"
            ],
            [
             0.2,
             "#de77ae"
            ],
            [
             0.3,
             "#f1b6da"
            ],
            [
             0.4,
             "#fde0ef"
            ],
            [
             0.5,
             "#f7f7f7"
            ],
            [
             0.6,
             "#e6f5d0"
            ],
            [
             0.7,
             "#b8e186"
            ],
            [
             0.8,
             "#7fbc41"
            ],
            [
             0.9,
             "#4d9221"
            ],
            [
             1,
             "#276419"
            ]
           ],
           "sequential": [
            [
             0,
             "#0d0887"
            ],
            [
             0.1111111111111111,
             "#46039f"
            ],
            [
             0.2222222222222222,
             "#7201a8"
            ],
            [
             0.3333333333333333,
             "#9c179e"
            ],
            [
             0.4444444444444444,
             "#bd3786"
            ],
            [
             0.5555555555555556,
             "#d8576b"
            ],
            [
             0.6666666666666666,
             "#ed7953"
            ],
            [
             0.7777777777777778,
             "#fb9f3a"
            ],
            [
             0.8888888888888888,
             "#fdca26"
            ],
            [
             1,
             "#f0f921"
            ]
           ],
           "sequentialminus": [
            [
             0,
             "#0d0887"
            ],
            [
             0.1111111111111111,
             "#46039f"
            ],
            [
             0.2222222222222222,
             "#7201a8"
            ],
            [
             0.3333333333333333,
             "#9c179e"
            ],
            [
             0.4444444444444444,
             "#bd3786"
            ],
            [
             0.5555555555555556,
             "#d8576b"
            ],
            [
             0.6666666666666666,
             "#ed7953"
            ],
            [
             0.7777777777777778,
             "#fb9f3a"
            ],
            [
             0.8888888888888888,
             "#fdca26"
            ],
            [
             1,
             "#f0f921"
            ]
           ]
          },
          "colorway": [
           "#636efa",
           "#EF553B",
           "#00cc96",
           "#ab63fa",
           "#FFA15A",
           "#19d3f3",
           "#FF6692",
           "#B6E880",
           "#FF97FF",
           "#FECB52"
          ],
          "font": {
           "color": "#2a3f5f"
          },
          "geo": {
           "bgcolor": "white",
           "lakecolor": "white",
           "landcolor": "#E5ECF6",
           "showlakes": true,
           "showland": true,
           "subunitcolor": "white"
          },
          "hoverlabel": {
           "align": "left"
          },
          "hovermode": "closest",
          "mapbox": {
           "style": "light"
          },
          "paper_bgcolor": "white",
          "plot_bgcolor": "#E5ECF6",
          "polar": {
           "angularaxis": {
            "gridcolor": "white",
            "linecolor": "white",
            "ticks": ""
           },
           "bgcolor": "#E5ECF6",
           "radialaxis": {
            "gridcolor": "white",
            "linecolor": "white",
            "ticks": ""
           }
          },
          "scene": {
           "xaxis": {
            "backgroundcolor": "#E5ECF6",
            "gridcolor": "white",
            "gridwidth": 2,
            "linecolor": "white",
            "showbackground": true,
            "ticks": "",
            "zerolinecolor": "white"
           },
           "yaxis": {
            "backgroundcolor": "#E5ECF6",
            "gridcolor": "white",
            "gridwidth": 2,
            "linecolor": "white",
            "showbackground": true,
            "ticks": "",
            "zerolinecolor": "white"
           },
           "zaxis": {
            "backgroundcolor": "#E5ECF6",
            "gridcolor": "white",
            "gridwidth": 2,
            "linecolor": "white",
            "showbackground": true,
            "ticks": "",
            "zerolinecolor": "white"
           }
          },
          "shapedefaults": {
           "line": {
            "color": "#2a3f5f"
           }
          },
          "ternary": {
           "aaxis": {
            "gridcolor": "white",
            "linecolor": "white",
            "ticks": ""
           },
           "baxis": {
            "gridcolor": "white",
            "linecolor": "white",
            "ticks": ""
           },
           "bgcolor": "#E5ECF6",
           "caxis": {
            "gridcolor": "white",
            "linecolor": "white",
            "ticks": ""
           }
          },
          "title": {
           "x": 0.05
          },
          "xaxis": {
           "automargin": true,
           "gridcolor": "white",
           "linecolor": "white",
           "ticks": "",
           "title": {
            "standoff": 15
           },
           "zerolinecolor": "white",
           "zerolinewidth": 2
          },
          "yaxis": {
           "automargin": true,
           "gridcolor": "white",
           "linecolor": "white",
           "ticks": "",
           "title": {
            "standoff": 15
           },
           "zerolinecolor": "white",
           "zerolinewidth": 2
          }
         }
        },
        "title": {
         "text": "Proportion of Total Sales by LIFESTAGE"
        }
       }
      }
     },
     "metadata": {},
     "output_type": "display_data"
    }
   ],
   "source": [
    "# Total sales by LIFESTAGES\n",
    "sales_by_lifestage = sales_data.groupby('LIFESTAGE')['SALES'].sum().reset_index()\n",
    "labels = sales_by_lifestage['LIFESTAGE']\n",
    "values = sales_by_lifestage['SALES']\n",
    "fig = go.Figure(data=[go.Pie(labels=labels, values=values, hole=.3)])\n",
    "fig.update_layout(title_text='Proportion of Total Sales by LIFESTAGE')\n",
    "fig.show()"
   ]
  },
  {
   "cell_type": "markdown",
   "metadata": {},
   "source": [
    "From the plot, we can observe that the majority of total sales come from the following groups in order: Older Singles/Couples, Retirees, Older Families, Young Families, and Young Singles/Couples. In contrast, the percentage of sales from Mid-age Singles/Couples accounts for nearly 10%, while New Families contribute less than 3%.\n",
    "\n",
    "    Okay. To enhance sales, we will concentrate our analysis on the five main groups: Older Singles/Couples, Retirees, Older Families, Young Families, and Young Singles/Couples. By prioritizing these segments, we aim to identify strategies that will effectively boost sales performance."
   ]
  },
  {
   "cell_type": "code",
   "execution_count": 91,
   "metadata": {},
   "outputs": [
    {
     "data": {
      "application/vnd.plotly.v1+json": {
       "config": {
        "plotlyServerURL": "https://plot.ly"
       },
       "data": [
        {
         "hole": 0.3,
         "labels": [
          "Budget",
          "Mainstream",
          "Premium"
         ],
         "type": "pie",
         "values": [
          631406.85,
          700865.4,
          472905.45
         ]
        }
       ],
       "layout": {
        "template": {
         "data": {
          "bar": [
           {
            "error_x": {
             "color": "#2a3f5f"
            },
            "error_y": {
             "color": "#2a3f5f"
            },
            "marker": {
             "line": {
              "color": "#E5ECF6",
              "width": 0.5
             },
             "pattern": {
              "fillmode": "overlay",
              "size": 10,
              "solidity": 0.2
             }
            },
            "type": "bar"
           }
          ],
          "barpolar": [
           {
            "marker": {
             "line": {
              "color": "#E5ECF6",
              "width": 0.5
             },
             "pattern": {
              "fillmode": "overlay",
              "size": 10,
              "solidity": 0.2
             }
            },
            "type": "barpolar"
           }
          ],
          "carpet": [
           {
            "aaxis": {
             "endlinecolor": "#2a3f5f",
             "gridcolor": "white",
             "linecolor": "white",
             "minorgridcolor": "white",
             "startlinecolor": "#2a3f5f"
            },
            "baxis": {
             "endlinecolor": "#2a3f5f",
             "gridcolor": "white",
             "linecolor": "white",
             "minorgridcolor": "white",
             "startlinecolor": "#2a3f5f"
            },
            "type": "carpet"
           }
          ],
          "choropleth": [
           {
            "colorbar": {
             "outlinewidth": 0,
             "ticks": ""
            },
            "type": "choropleth"
           }
          ],
          "contour": [
           {
            "colorbar": {
             "outlinewidth": 0,
             "ticks": ""
            },
            "colorscale": [
             [
              0,
              "#0d0887"
             ],
             [
              0.1111111111111111,
              "#46039f"
             ],
             [
              0.2222222222222222,
              "#7201a8"
             ],
             [
              0.3333333333333333,
              "#9c179e"
             ],
             [
              0.4444444444444444,
              "#bd3786"
             ],
             [
              0.5555555555555556,
              "#d8576b"
             ],
             [
              0.6666666666666666,
              "#ed7953"
             ],
             [
              0.7777777777777778,
              "#fb9f3a"
             ],
             [
              0.8888888888888888,
              "#fdca26"
             ],
             [
              1,
              "#f0f921"
             ]
            ],
            "type": "contour"
           }
          ],
          "contourcarpet": [
           {
            "colorbar": {
             "outlinewidth": 0,
             "ticks": ""
            },
            "type": "contourcarpet"
           }
          ],
          "heatmap": [
           {
            "colorbar": {
             "outlinewidth": 0,
             "ticks": ""
            },
            "colorscale": [
             [
              0,
              "#0d0887"
             ],
             [
              0.1111111111111111,
              "#46039f"
             ],
             [
              0.2222222222222222,
              "#7201a8"
             ],
             [
              0.3333333333333333,
              "#9c179e"
             ],
             [
              0.4444444444444444,
              "#bd3786"
             ],
             [
              0.5555555555555556,
              "#d8576b"
             ],
             [
              0.6666666666666666,
              "#ed7953"
             ],
             [
              0.7777777777777778,
              "#fb9f3a"
             ],
             [
              0.8888888888888888,
              "#fdca26"
             ],
             [
              1,
              "#f0f921"
             ]
            ],
            "type": "heatmap"
           }
          ],
          "heatmapgl": [
           {
            "colorbar": {
             "outlinewidth": 0,
             "ticks": ""
            },
            "colorscale": [
             [
              0,
              "#0d0887"
             ],
             [
              0.1111111111111111,
              "#46039f"
             ],
             [
              0.2222222222222222,
              "#7201a8"
             ],
             [
              0.3333333333333333,
              "#9c179e"
             ],
             [
              0.4444444444444444,
              "#bd3786"
             ],
             [
              0.5555555555555556,
              "#d8576b"
             ],
             [
              0.6666666666666666,
              "#ed7953"
             ],
             [
              0.7777777777777778,
              "#fb9f3a"
             ],
             [
              0.8888888888888888,
              "#fdca26"
             ],
             [
              1,
              "#f0f921"
             ]
            ],
            "type": "heatmapgl"
           }
          ],
          "histogram": [
           {
            "marker": {
             "pattern": {
              "fillmode": "overlay",
              "size": 10,
              "solidity": 0.2
             }
            },
            "type": "histogram"
           }
          ],
          "histogram2d": [
           {
            "colorbar": {
             "outlinewidth": 0,
             "ticks": ""
            },
            "colorscale": [
             [
              0,
              "#0d0887"
             ],
             [
              0.1111111111111111,
              "#46039f"
             ],
             [
              0.2222222222222222,
              "#7201a8"
             ],
             [
              0.3333333333333333,
              "#9c179e"
             ],
             [
              0.4444444444444444,
              "#bd3786"
             ],
             [
              0.5555555555555556,
              "#d8576b"
             ],
             [
              0.6666666666666666,
              "#ed7953"
             ],
             [
              0.7777777777777778,
              "#fb9f3a"
             ],
             [
              0.8888888888888888,
              "#fdca26"
             ],
             [
              1,
              "#f0f921"
             ]
            ],
            "type": "histogram2d"
           }
          ],
          "histogram2dcontour": [
           {
            "colorbar": {
             "outlinewidth": 0,
             "ticks": ""
            },
            "colorscale": [
             [
              0,
              "#0d0887"
             ],
             [
              0.1111111111111111,
              "#46039f"
             ],
             [
              0.2222222222222222,
              "#7201a8"
             ],
             [
              0.3333333333333333,
              "#9c179e"
             ],
             [
              0.4444444444444444,
              "#bd3786"
             ],
             [
              0.5555555555555556,
              "#d8576b"
             ],
             [
              0.6666666666666666,
              "#ed7953"
             ],
             [
              0.7777777777777778,
              "#fb9f3a"
             ],
             [
              0.8888888888888888,
              "#fdca26"
             ],
             [
              1,
              "#f0f921"
             ]
            ],
            "type": "histogram2dcontour"
           }
          ],
          "mesh3d": [
           {
            "colorbar": {
             "outlinewidth": 0,
             "ticks": ""
            },
            "type": "mesh3d"
           }
          ],
          "parcoords": [
           {
            "line": {
             "colorbar": {
              "outlinewidth": 0,
              "ticks": ""
             }
            },
            "type": "parcoords"
           }
          ],
          "pie": [
           {
            "automargin": true,
            "type": "pie"
           }
          ],
          "scatter": [
           {
            "fillpattern": {
             "fillmode": "overlay",
             "size": 10,
             "solidity": 0.2
            },
            "type": "scatter"
           }
          ],
          "scatter3d": [
           {
            "line": {
             "colorbar": {
              "outlinewidth": 0,
              "ticks": ""
             }
            },
            "marker": {
             "colorbar": {
              "outlinewidth": 0,
              "ticks": ""
             }
            },
            "type": "scatter3d"
           }
          ],
          "scattercarpet": [
           {
            "marker": {
             "colorbar": {
              "outlinewidth": 0,
              "ticks": ""
             }
            },
            "type": "scattercarpet"
           }
          ],
          "scattergeo": [
           {
            "marker": {
             "colorbar": {
              "outlinewidth": 0,
              "ticks": ""
             }
            },
            "type": "scattergeo"
           }
          ],
          "scattergl": [
           {
            "marker": {
             "colorbar": {
              "outlinewidth": 0,
              "ticks": ""
             }
            },
            "type": "scattergl"
           }
          ],
          "scattermapbox": [
           {
            "marker": {
             "colorbar": {
              "outlinewidth": 0,
              "ticks": ""
             }
            },
            "type": "scattermapbox"
           }
          ],
          "scatterpolar": [
           {
            "marker": {
             "colorbar": {
              "outlinewidth": 0,
              "ticks": ""
             }
            },
            "type": "scatterpolar"
           }
          ],
          "scatterpolargl": [
           {
            "marker": {
             "colorbar": {
              "outlinewidth": 0,
              "ticks": ""
             }
            },
            "type": "scatterpolargl"
           }
          ],
          "scatterternary": [
           {
            "marker": {
             "colorbar": {
              "outlinewidth": 0,
              "ticks": ""
             }
            },
            "type": "scatterternary"
           }
          ],
          "surface": [
           {
            "colorbar": {
             "outlinewidth": 0,
             "ticks": ""
            },
            "colorscale": [
             [
              0,
              "#0d0887"
             ],
             [
              0.1111111111111111,
              "#46039f"
             ],
             [
              0.2222222222222222,
              "#7201a8"
             ],
             [
              0.3333333333333333,
              "#9c179e"
             ],
             [
              0.4444444444444444,
              "#bd3786"
             ],
             [
              0.5555555555555556,
              "#d8576b"
             ],
             [
              0.6666666666666666,
              "#ed7953"
             ],
             [
              0.7777777777777778,
              "#fb9f3a"
             ],
             [
              0.8888888888888888,
              "#fdca26"
             ],
             [
              1,
              "#f0f921"
             ]
            ],
            "type": "surface"
           }
          ],
          "table": [
           {
            "cells": {
             "fill": {
              "color": "#EBF0F8"
             },
             "line": {
              "color": "white"
             }
            },
            "header": {
             "fill": {
              "color": "#C8D4E3"
             },
             "line": {
              "color": "white"
             }
            },
            "type": "table"
           }
          ]
         },
         "layout": {
          "annotationdefaults": {
           "arrowcolor": "#2a3f5f",
           "arrowhead": 0,
           "arrowwidth": 1
          },
          "autotypenumbers": "strict",
          "coloraxis": {
           "colorbar": {
            "outlinewidth": 0,
            "ticks": ""
           }
          },
          "colorscale": {
           "diverging": [
            [
             0,
             "#8e0152"
            ],
            [
             0.1,
             "#c51b7d"
            ],
            [
             0.2,
             "#de77ae"
            ],
            [
             0.3,
             "#f1b6da"
            ],
            [
             0.4,
             "#fde0ef"
            ],
            [
             0.5,
             "#f7f7f7"
            ],
            [
             0.6,
             "#e6f5d0"
            ],
            [
             0.7,
             "#b8e186"
            ],
            [
             0.8,
             "#7fbc41"
            ],
            [
             0.9,
             "#4d9221"
            ],
            [
             1,
             "#276419"
            ]
           ],
           "sequential": [
            [
             0,
             "#0d0887"
            ],
            [
             0.1111111111111111,
             "#46039f"
            ],
            [
             0.2222222222222222,
             "#7201a8"
            ],
            [
             0.3333333333333333,
             "#9c179e"
            ],
            [
             0.4444444444444444,
             "#bd3786"
            ],
            [
             0.5555555555555556,
             "#d8576b"
            ],
            [
             0.6666666666666666,
             "#ed7953"
            ],
            [
             0.7777777777777778,
             "#fb9f3a"
            ],
            [
             0.8888888888888888,
             "#fdca26"
            ],
            [
             1,
             "#f0f921"
            ]
           ],
           "sequentialminus": [
            [
             0,
             "#0d0887"
            ],
            [
             0.1111111111111111,
             "#46039f"
            ],
            [
             0.2222222222222222,
             "#7201a8"
            ],
            [
             0.3333333333333333,
             "#9c179e"
            ],
            [
             0.4444444444444444,
             "#bd3786"
            ],
            [
             0.5555555555555556,
             "#d8576b"
            ],
            [
             0.6666666666666666,
             "#ed7953"
            ],
            [
             0.7777777777777778,
             "#fb9f3a"
            ],
            [
             0.8888888888888888,
             "#fdca26"
            ],
            [
             1,
             "#f0f921"
            ]
           ]
          },
          "colorway": [
           "#636efa",
           "#EF553B",
           "#00cc96",
           "#ab63fa",
           "#FFA15A",
           "#19d3f3",
           "#FF6692",
           "#B6E880",
           "#FF97FF",
           "#FECB52"
          ],
          "font": {
           "color": "#2a3f5f"
          },
          "geo": {
           "bgcolor": "white",
           "lakecolor": "white",
           "landcolor": "#E5ECF6",
           "showlakes": true,
           "showland": true,
           "subunitcolor": "white"
          },
          "hoverlabel": {
           "align": "left"
          },
          "hovermode": "closest",
          "mapbox": {
           "style": "light"
          },
          "paper_bgcolor": "white",
          "plot_bgcolor": "#E5ECF6",
          "polar": {
           "angularaxis": {
            "gridcolor": "white",
            "linecolor": "white",
            "ticks": ""
           },
           "bgcolor": "#E5ECF6",
           "radialaxis": {
            "gridcolor": "white",
            "linecolor": "white",
            "ticks": ""
           }
          },
          "scene": {
           "xaxis": {
            "backgroundcolor": "#E5ECF6",
            "gridcolor": "white",
            "gridwidth": 2,
            "linecolor": "white",
            "showbackground": true,
            "ticks": "",
            "zerolinecolor": "white"
           },
           "yaxis": {
            "backgroundcolor": "#E5ECF6",
            "gridcolor": "white",
            "gridwidth": 2,
            "linecolor": "white",
            "showbackground": true,
            "ticks": "",
            "zerolinecolor": "white"
           },
           "zaxis": {
            "backgroundcolor": "#E5ECF6",
            "gridcolor": "white",
            "gridwidth": 2,
            "linecolor": "white",
            "showbackground": true,
            "ticks": "",
            "zerolinecolor": "white"
           }
          },
          "shapedefaults": {
           "line": {
            "color": "#2a3f5f"
           }
          },
          "ternary": {
           "aaxis": {
            "gridcolor": "white",
            "linecolor": "white",
            "ticks": ""
           },
           "baxis": {
            "gridcolor": "white",
            "linecolor": "white",
            "ticks": ""
           },
           "bgcolor": "#E5ECF6",
           "caxis": {
            "gridcolor": "white",
            "linecolor": "white",
            "ticks": ""
           }
          },
          "title": {
           "x": 0.05
          },
          "xaxis": {
           "automargin": true,
           "gridcolor": "white",
           "linecolor": "white",
           "ticks": "",
           "title": {
            "standoff": 15
           },
           "zerolinecolor": "white",
           "zerolinewidth": 2
          },
          "yaxis": {
           "automargin": true,
           "gridcolor": "white",
           "linecolor": "white",
           "ticks": "",
           "title": {
            "standoff": 15
           },
           "zerolinecolor": "white",
           "zerolinewidth": 2
          }
         }
        },
        "title": {
         "text": "Proportion of Total Sales by PREMIUM_CUSTOMER"
        }
       }
      }
     },
     "metadata": {},
     "output_type": "display_data"
    }
   ],
   "source": [
    "# Total sales by PREMIUM_CUSTOMER\n",
    "sales_by_lifestage = sales_data.groupby('PREMIUM_CUSTOMER')['SALES'].sum().reset_index()\n",
    "labels = sales_by_lifestage['PREMIUM_CUSTOMER']\n",
    "values = sales_by_lifestage['SALES']\n",
    "fig = go.Figure(data=[go.Pie(labels=labels, values=values, hole=.3)])\n",
    "fig.update_layout(title_text='Proportion of Total Sales by PREMIUM_CUSTOMER')\n",
    "fig.show()\n"
   ]
  },
  {
   "cell_type": "markdown",
   "metadata": {},
   "source": [
    "'Mainstream': This group represents the largest customer base, accounting for 38.8% of total sales. Customers in this segment typically have average needs and preferences. They seek affordable products that still maintain a certain level of quality. This indicates that the company should focus on creating value for these customers while maintaining reasonable pricing.\n",
    "\n",
    "'Budget': Comprising 35% of total sales, this group of customers is primarily focused on cost-saving. They often opt for cheaper products and may not prioritize brand names. This suggests that the company should consider offering budget-friendly options to cater to this price-sensitive demographic, ensuring that quality is still considered to retain customer loyalty.\n",
    "\n",
    "'Premium': This segment accounts for 26.2% of total sales. Customers here tend to spend more on high-quality products and well-known brands, and they seek top-notch experiences. Although this group is the smallest in terms of revenue share, its contribution is significant. There is a clear opportunity for the company to develop and expand its market for premium products, indicating potential for growth in this segment."
   ]
  },
  {
   "cell_type": "markdown",
   "metadata": {},
   "source": [
    "    The majority of sales comes from the Mainstream segment, followed closely by the Budget segment, while the Premium segment, despite its smaller share, remains impactful. The presence of the Premium segment highlights a market opportunity for upscale product development, suggesting that investing in this area could yield significant returns. "
   ]
  },
  {
   "cell_type": "code",
   "execution_count": 88,
   "metadata": {},
   "outputs": [
    {
     "data": {
      "application/vnd.plotly.v1+json": {
       "config": {
        "plotlyServerURL": "https://plot.ly"
       },
       "data": [
        {
         "alignmentgroup": "True",
         "hovertemplate": "PREMIUM_CUSTOMER=Budget<br>LIFESTAGE=%{x}<br>PROPORTION=%{y}<extra></extra>",
         "legendgroup": "Budget",
         "marker": {
          "color": "#636efa",
          "pattern": {
           "shape": ""
          }
         },
         "name": "Budget",
         "offsetgroup": "Budget",
         "orientation": "v",
         "showlegend": true,
         "textposition": "auto",
         "type": "bar",
         "x": [
          "MIDAGE SINGLES/COUPLES",
          "NEW FAMILIES",
          "OLDER FAMILIES",
          "OLDER SINGLES/COUPLES",
          "RETIREES",
          "YOUNG FAMILIES",
          "YOUNG SINGLES/COUPLES"
         ],
         "xaxis": "x",
         "y": [
          1.85,
          1.14,
          8.69,
          7.08,
          5.87,
          7.19,
          3.16
         ],
         "yaxis": "y"
        },
        {
         "alignmentgroup": "True",
         "hovertemplate": "PREMIUM_CUSTOMER=Mainstream<br>LIFESTAGE=%{x}<br>PROPORTION=%{y}<extra></extra>",
         "legendgroup": "Mainstream",
         "marker": {
          "color": "#EF553B",
          "pattern": {
           "shape": ""
          }
         },
         "name": "Mainstream",
         "offsetgroup": "Mainstream",
         "orientation": "v",
         "showlegend": true,
         "textposition": "auto",
         "type": "bar",
         "x": [
          "MIDAGE SINGLES/COUPLES",
          "NEW FAMILIES",
          "OLDER FAMILIES",
          "OLDER SINGLES/COUPLES",
          "RETIREES",
          "YOUNG FAMILIES",
          "YOUNG SINGLES/COUPLES"
         ],
         "xaxis": "x",
         "y": [
          4.69,
          0.89,
          5.34,
          6.91,
          8.04,
          4.78,
          8.18
         ],
         "yaxis": "y"
        },
        {
         "alignmentgroup": "True",
         "hovertemplate": "PREMIUM_CUSTOMER=Premium<br>LIFESTAGE=%{x}<br>PROPORTION=%{y}<extra></extra>",
         "legendgroup": "Premium",
         "marker": {
          "color": "#00cc96",
          "pattern": {
           "shape": ""
          }
         },
         "name": "Premium",
         "offsetgroup": "Premium",
         "orientation": "v",
         "showlegend": true,
         "textposition": "auto",
         "type": "bar",
         "x": [
          "MIDAGE SINGLES/COUPLES",
          "NEW FAMILIES",
          "OLDER FAMILIES",
          "OLDER SINGLES/COUPLES",
          "RETIREES",
          "YOUNG FAMILIES",
          "YOUNG SINGLES/COUPLES"
         ],
         "xaxis": "x",
         "y": [
          3.02,
          0.6,
          4.17,
          6.84,
          5.06,
          4.35,
          2.16
         ],
         "yaxis": "y"
        }
       ],
       "layout": {
        "barmode": "relative",
        "height": 600,
        "legend": {
         "title": {
          "text": "PREMIUM_CUSTOMER"
         },
         "tracegroupgap": 0
        },
        "template": {
         "data": {
          "bar": [
           {
            "error_x": {
             "color": "#2a3f5f"
            },
            "error_y": {
             "color": "#2a3f5f"
            },
            "marker": {
             "line": {
              "color": "#E5ECF6",
              "width": 0.5
             },
             "pattern": {
              "fillmode": "overlay",
              "size": 10,
              "solidity": 0.2
             }
            },
            "type": "bar"
           }
          ],
          "barpolar": [
           {
            "marker": {
             "line": {
              "color": "#E5ECF6",
              "width": 0.5
             },
             "pattern": {
              "fillmode": "overlay",
              "size": 10,
              "solidity": 0.2
             }
            },
            "type": "barpolar"
           }
          ],
          "carpet": [
           {
            "aaxis": {
             "endlinecolor": "#2a3f5f",
             "gridcolor": "white",
             "linecolor": "white",
             "minorgridcolor": "white",
             "startlinecolor": "#2a3f5f"
            },
            "baxis": {
             "endlinecolor": "#2a3f5f",
             "gridcolor": "white",
             "linecolor": "white",
             "minorgridcolor": "white",
             "startlinecolor": "#2a3f5f"
            },
            "type": "carpet"
           }
          ],
          "choropleth": [
           {
            "colorbar": {
             "outlinewidth": 0,
             "ticks": ""
            },
            "type": "choropleth"
           }
          ],
          "contour": [
           {
            "colorbar": {
             "outlinewidth": 0,
             "ticks": ""
            },
            "colorscale": [
             [
              0,
              "#0d0887"
             ],
             [
              0.1111111111111111,
              "#46039f"
             ],
             [
              0.2222222222222222,
              "#7201a8"
             ],
             [
              0.3333333333333333,
              "#9c179e"
             ],
             [
              0.4444444444444444,
              "#bd3786"
             ],
             [
              0.5555555555555556,
              "#d8576b"
             ],
             [
              0.6666666666666666,
              "#ed7953"
             ],
             [
              0.7777777777777778,
              "#fb9f3a"
             ],
             [
              0.8888888888888888,
              "#fdca26"
             ],
             [
              1,
              "#f0f921"
             ]
            ],
            "type": "contour"
           }
          ],
          "contourcarpet": [
           {
            "colorbar": {
             "outlinewidth": 0,
             "ticks": ""
            },
            "type": "contourcarpet"
           }
          ],
          "heatmap": [
           {
            "colorbar": {
             "outlinewidth": 0,
             "ticks": ""
            },
            "colorscale": [
             [
              0,
              "#0d0887"
             ],
             [
              0.1111111111111111,
              "#46039f"
             ],
             [
              0.2222222222222222,
              "#7201a8"
             ],
             [
              0.3333333333333333,
              "#9c179e"
             ],
             [
              0.4444444444444444,
              "#bd3786"
             ],
             [
              0.5555555555555556,
              "#d8576b"
             ],
             [
              0.6666666666666666,
              "#ed7953"
             ],
             [
              0.7777777777777778,
              "#fb9f3a"
             ],
             [
              0.8888888888888888,
              "#fdca26"
             ],
             [
              1,
              "#f0f921"
             ]
            ],
            "type": "heatmap"
           }
          ],
          "heatmapgl": [
           {
            "colorbar": {
             "outlinewidth": 0,
             "ticks": ""
            },
            "colorscale": [
             [
              0,
              "#0d0887"
             ],
             [
              0.1111111111111111,
              "#46039f"
             ],
             [
              0.2222222222222222,
              "#7201a8"
             ],
             [
              0.3333333333333333,
              "#9c179e"
             ],
             [
              0.4444444444444444,
              "#bd3786"
             ],
             [
              0.5555555555555556,
              "#d8576b"
             ],
             [
              0.6666666666666666,
              "#ed7953"
             ],
             [
              0.7777777777777778,
              "#fb9f3a"
             ],
             [
              0.8888888888888888,
              "#fdca26"
             ],
             [
              1,
              "#f0f921"
             ]
            ],
            "type": "heatmapgl"
           }
          ],
          "histogram": [
           {
            "marker": {
             "pattern": {
              "fillmode": "overlay",
              "size": 10,
              "solidity": 0.2
             }
            },
            "type": "histogram"
           }
          ],
          "histogram2d": [
           {
            "colorbar": {
             "outlinewidth": 0,
             "ticks": ""
            },
            "colorscale": [
             [
              0,
              "#0d0887"
             ],
             [
              0.1111111111111111,
              "#46039f"
             ],
             [
              0.2222222222222222,
              "#7201a8"
             ],
             [
              0.3333333333333333,
              "#9c179e"
             ],
             [
              0.4444444444444444,
              "#bd3786"
             ],
             [
              0.5555555555555556,
              "#d8576b"
             ],
             [
              0.6666666666666666,
              "#ed7953"
             ],
             [
              0.7777777777777778,
              "#fb9f3a"
             ],
             [
              0.8888888888888888,
              "#fdca26"
             ],
             [
              1,
              "#f0f921"
             ]
            ],
            "type": "histogram2d"
           }
          ],
          "histogram2dcontour": [
           {
            "colorbar": {
             "outlinewidth": 0,
             "ticks": ""
            },
            "colorscale": [
             [
              0,
              "#0d0887"
             ],
             [
              0.1111111111111111,
              "#46039f"
             ],
             [
              0.2222222222222222,
              "#7201a8"
             ],
             [
              0.3333333333333333,
              "#9c179e"
             ],
             [
              0.4444444444444444,
              "#bd3786"
             ],
             [
              0.5555555555555556,
              "#d8576b"
             ],
             [
              0.6666666666666666,
              "#ed7953"
             ],
             [
              0.7777777777777778,
              "#fb9f3a"
             ],
             [
              0.8888888888888888,
              "#fdca26"
             ],
             [
              1,
              "#f0f921"
             ]
            ],
            "type": "histogram2dcontour"
           }
          ],
          "mesh3d": [
           {
            "colorbar": {
             "outlinewidth": 0,
             "ticks": ""
            },
            "type": "mesh3d"
           }
          ],
          "parcoords": [
           {
            "line": {
             "colorbar": {
              "outlinewidth": 0,
              "ticks": ""
             }
            },
            "type": "parcoords"
           }
          ],
          "pie": [
           {
            "automargin": true,
            "type": "pie"
           }
          ],
          "scatter": [
           {
            "fillpattern": {
             "fillmode": "overlay",
             "size": 10,
             "solidity": 0.2
            },
            "type": "scatter"
           }
          ],
          "scatter3d": [
           {
            "line": {
             "colorbar": {
              "outlinewidth": 0,
              "ticks": ""
             }
            },
            "marker": {
             "colorbar": {
              "outlinewidth": 0,
              "ticks": ""
             }
            },
            "type": "scatter3d"
           }
          ],
          "scattercarpet": [
           {
            "marker": {
             "colorbar": {
              "outlinewidth": 0,
              "ticks": ""
             }
            },
            "type": "scattercarpet"
           }
          ],
          "scattergeo": [
           {
            "marker": {
             "colorbar": {
              "outlinewidth": 0,
              "ticks": ""
             }
            },
            "type": "scattergeo"
           }
          ],
          "scattergl": [
           {
            "marker": {
             "colorbar": {
              "outlinewidth": 0,
              "ticks": ""
             }
            },
            "type": "scattergl"
           }
          ],
          "scattermapbox": [
           {
            "marker": {
             "colorbar": {
              "outlinewidth": 0,
              "ticks": ""
             }
            },
            "type": "scattermapbox"
           }
          ],
          "scatterpolar": [
           {
            "marker": {
             "colorbar": {
              "outlinewidth": 0,
              "ticks": ""
             }
            },
            "type": "scatterpolar"
           }
          ],
          "scatterpolargl": [
           {
            "marker": {
             "colorbar": {
              "outlinewidth": 0,
              "ticks": ""
             }
            },
            "type": "scatterpolargl"
           }
          ],
          "scatterternary": [
           {
            "marker": {
             "colorbar": {
              "outlinewidth": 0,
              "ticks": ""
             }
            },
            "type": "scatterternary"
           }
          ],
          "surface": [
           {
            "colorbar": {
             "outlinewidth": 0,
             "ticks": ""
            },
            "colorscale": [
             [
              0,
              "#0d0887"
             ],
             [
              0.1111111111111111,
              "#46039f"
             ],
             [
              0.2222222222222222,
              "#7201a8"
             ],
             [
              0.3333333333333333,
              "#9c179e"
             ],
             [
              0.4444444444444444,
              "#bd3786"
             ],
             [
              0.5555555555555556,
              "#d8576b"
             ],
             [
              0.6666666666666666,
              "#ed7953"
             ],
             [
              0.7777777777777778,
              "#fb9f3a"
             ],
             [
              0.8888888888888888,
              "#fdca26"
             ],
             [
              1,
              "#f0f921"
             ]
            ],
            "type": "surface"
           }
          ],
          "table": [
           {
            "cells": {
             "fill": {
              "color": "#EBF0F8"
             },
             "line": {
              "color": "white"
             }
            },
            "header": {
             "fill": {
              "color": "#C8D4E3"
             },
             "line": {
              "color": "white"
             }
            },
            "type": "table"
           }
          ]
         },
         "layout": {
          "annotationdefaults": {
           "arrowcolor": "#2a3f5f",
           "arrowhead": 0,
           "arrowwidth": 1
          },
          "autotypenumbers": "strict",
          "coloraxis": {
           "colorbar": {
            "outlinewidth": 0,
            "ticks": ""
           }
          },
          "colorscale": {
           "diverging": [
            [
             0,
             "#8e0152"
            ],
            [
             0.1,
             "#c51b7d"
            ],
            [
             0.2,
             "#de77ae"
            ],
            [
             0.3,
             "#f1b6da"
            ],
            [
             0.4,
             "#fde0ef"
            ],
            [
             0.5,
             "#f7f7f7"
            ],
            [
             0.6,
             "#e6f5d0"
            ],
            [
             0.7,
             "#b8e186"
            ],
            [
             0.8,
             "#7fbc41"
            ],
            [
             0.9,
             "#4d9221"
            ],
            [
             1,
             "#276419"
            ]
           ],
           "sequential": [
            [
             0,
             "#0d0887"
            ],
            [
             0.1111111111111111,
             "#46039f"
            ],
            [
             0.2222222222222222,
             "#7201a8"
            ],
            [
             0.3333333333333333,
             "#9c179e"
            ],
            [
             0.4444444444444444,
             "#bd3786"
            ],
            [
             0.5555555555555556,
             "#d8576b"
            ],
            [
             0.6666666666666666,
             "#ed7953"
            ],
            [
             0.7777777777777778,
             "#fb9f3a"
            ],
            [
             0.8888888888888888,
             "#fdca26"
            ],
            [
             1,
             "#f0f921"
            ]
           ],
           "sequentialminus": [
            [
             0,
             "#0d0887"
            ],
            [
             0.1111111111111111,
             "#46039f"
            ],
            [
             0.2222222222222222,
             "#7201a8"
            ],
            [
             0.3333333333333333,
             "#9c179e"
            ],
            [
             0.4444444444444444,
             "#bd3786"
            ],
            [
             0.5555555555555556,
             "#d8576b"
            ],
            [
             0.6666666666666666,
             "#ed7953"
            ],
            [
             0.7777777777777778,
             "#fb9f3a"
            ],
            [
             0.8888888888888888,
             "#fdca26"
            ],
            [
             1,
             "#f0f921"
            ]
           ]
          },
          "colorway": [
           "#636efa",
           "#EF553B",
           "#00cc96",
           "#ab63fa",
           "#FFA15A",
           "#19d3f3",
           "#FF6692",
           "#B6E880",
           "#FF97FF",
           "#FECB52"
          ],
          "font": {
           "color": "#2a3f5f"
          },
          "geo": {
           "bgcolor": "white",
           "lakecolor": "white",
           "landcolor": "#E5ECF6",
           "showlakes": true,
           "showland": true,
           "subunitcolor": "white"
          },
          "hoverlabel": {
           "align": "left"
          },
          "hovermode": "closest",
          "mapbox": {
           "style": "light"
          },
          "paper_bgcolor": "white",
          "plot_bgcolor": "#E5ECF6",
          "polar": {
           "angularaxis": {
            "gridcolor": "white",
            "linecolor": "white",
            "ticks": ""
           },
           "bgcolor": "#E5ECF6",
           "radialaxis": {
            "gridcolor": "white",
            "linecolor": "white",
            "ticks": ""
           }
          },
          "scene": {
           "xaxis": {
            "backgroundcolor": "#E5ECF6",
            "gridcolor": "white",
            "gridwidth": 2,
            "linecolor": "white",
            "showbackground": true,
            "ticks": "",
            "zerolinecolor": "white"
           },
           "yaxis": {
            "backgroundcolor": "#E5ECF6",
            "gridcolor": "white",
            "gridwidth": 2,
            "linecolor": "white",
            "showbackground": true,
            "ticks": "",
            "zerolinecolor": "white"
           },
           "zaxis": {
            "backgroundcolor": "#E5ECF6",
            "gridcolor": "white",
            "gridwidth": 2,
            "linecolor": "white",
            "showbackground": true,
            "ticks": "",
            "zerolinecolor": "white"
           }
          },
          "shapedefaults": {
           "line": {
            "color": "#2a3f5f"
           }
          },
          "ternary": {
           "aaxis": {
            "gridcolor": "white",
            "linecolor": "white",
            "ticks": ""
           },
           "baxis": {
            "gridcolor": "white",
            "linecolor": "white",
            "ticks": ""
           },
           "bgcolor": "#E5ECF6",
           "caxis": {
            "gridcolor": "white",
            "linecolor": "white",
            "ticks": ""
           }
          },
          "title": {
           "x": 0.05
          },
          "xaxis": {
           "automargin": true,
           "gridcolor": "white",
           "linecolor": "white",
           "ticks": "",
           "title": {
            "standoff": 15
           },
           "zerolinecolor": "white",
           "zerolinewidth": 2
          },
          "yaxis": {
           "automargin": true,
           "gridcolor": "white",
           "linecolor": "white",
           "ticks": "",
           "title": {
            "standoff": 15
           },
           "zerolinecolor": "white",
           "zerolinewidth": 2
          }
         }
        },
        "title": {
         "text": "Proportion of Total Sales by LIFESTAGE and PREMIUM_CUSTOMER"
        },
        "width": 1000,
        "xaxis": {
         "anchor": "y",
         "domain": [
          0,
          1
         ],
         "title": {
          "text": "LIFESTAGE - PREMIUM_CUSTOMER"
         }
        },
        "yaxis": {
         "anchor": "x",
         "domain": [
          0,
          1
         ],
         "title": {
          "text": "Proportion (%)"
         }
        }
       }
      }
     },
     "metadata": {},
     "output_type": "display_data"
    }
   ],
   "source": [
    "# Proportion of total sales by 'LIFESTAGE' and 'PREMIUM_CUSTOMER'\n",
    "fig = px.bar(sales_data, x='LIFESTAGE', y='PROPORTION', color='PREMIUM_CUSTOMER', title='Proportion of Total Sales by LIFESTAGE and PREMIUM_CUSTOMER', width=1000, height=600)\n",
    "fig.update_layout(xaxis_title='LIFESTAGE - PREMIUM_CUSTOMER', yaxis_title='Proportion (%)')\n",
    "fig.show()\n"
   ]
  },
  {
   "cell_type": "markdown",
   "metadata": {},
   "source": [
    "\n",
    "Older Singles/Couples and Retirees are the two groups with the highest consumption rates across different segments. They have significant purchasing power not only in the Budget and Mainstream segments but also in the Premium segment. Although they have a high demand for mid-range and low-cost products, the Premium segment also attracts their attention at a comparable rate. This indicates that older customers, including Older Singles/Couples and Retirees, tend to have diverse consumption patterns and are willing to pay for premium products when they see suitable value. \n",
    "\n",
    "    Therefore, marketing and product development strategies aimed at this customer group should not only focus on affordable or mid-range products but also emphasize the Premium segment, where they are willing to invest more in quality and experience."
   ]
  },
  {
   "cell_type": "markdown",
   "metadata": {},
   "source": [
    "Older Families show the highest total sales for chips in the Budget segment, accounting for 8.69%. This suggests a strong preference for lower-cost products. To capitalize on this, businesses should focus on offering affordable chips options with targeted promotions that cater to this price-sensitive group.\n",
    "\n",
    "Young Singles/Couples dominate the Mainstream segment, with 8.18% of chips sales, indicating a preference for mid-range products. Marketing strategies should highlight quality and appeal to their active, modern lifestyle, positioning chips as a premium yet accessible snack choice for this demographic.\n",
    "\n",
    "New Families report the lowest total sales of chips across all segments, reflecting a limited budget and lower overall consumption.\n",
    "\n",
    "    In contrast, Older Families, Older Singles/Couples, and Retirees collectively drive higher total sales of chips compared to younger groups, particularly in the Budget and Mainstream segments. Given their diverse needs, marketing strategies should be adaptable, addressing demand across a wide price range, from budget-friendly to premium offerings."
   ]
  },
  {
   "cell_type": "markdown",
   "metadata": {},
   "source": [
    "**Proportion of chips product by BRAND NAME**"
   ]
  },
  {
   "cell_type": "code",
   "execution_count": 119,
   "metadata": {},
   "outputs": [],
   "source": [
    "# Calculate the total sales by BRAND_NAME\n",
    "brands_data = pd.merge(brands_data, transaction_data.groupby('BRAND_NAME').agg({'TOT_SALES': 'sum'}), on='BRAND_NAME')"
   ]
  },
  {
   "cell_type": "code",
   "execution_count": 137,
   "metadata": {},
   "outputs": [
    {
     "data": {
      "image/png": "[encoded data removed]",
      "text/plain": [
       "<Figure size 1400x600 with 2 Axes>"
      ]
     },
     "metadata": {},
     "output_type": "display_data"
    }
   ],
   "source": [
    "# Display the plot\n",
    "fig, ax1 = plt.subplots(figsize=(14, 6))  # Unpack figure and axes\n",
    "\n",
    "# Create a bar plot for Frequency\n",
    "ax1.bar(brands_data['BRAND_NAME'], brands_data['Frequency'], color='royalblue', label='Frequency')\n",
    "ax1.set_xlabel('Brand Name')\n",
    "ax1.set_ylabel('Frequency', color='royalblue')\n",
    "ax1.tick_params(axis='y', labelcolor='royalblue')\n",
    "ax1.legend(loc='upper left')\n",
    "\n",
    "# Create a secondary y-axis for Total Sales\n",
    "ax2 = ax1.twinx()\n",
    "ax2.plot(brands_data['BRAND_NAME'], brands_data['TOT_SALES'], zorder=2, color='red', label='Total Sales', marker='o')\n",
    "ax2.set_ylabel('Total Sales', color='red')\n",
    "ax2.tick_params(axis='y', labelcolor='red')\n",
    "ax2.legend(loc='upper right')\n",
    "\n",
    "# Set the title\n",
    "plt.title('Frequency and Total Sales by BRAND NAME')\n",
    "\n",
    "# Rotate the x-axis labels\n",
    "plt.setp(ax1.get_xticklabels(), rotation=30, horizontalalignment='right')\n",
    "\n",
    "# Adjust the layout to avoid overlap\n",
    "plt.tight_layout()\n",
    "\n",
    "# Show the plot\n",
    "plt.show()\n"
   ]
  },
  {
   "cell_type": "markdown",
   "metadata": {},
   "source": []
  },
  {
   "cell_type": "code",
   "execution_count": null,
   "metadata": {},
   "outputs": [],
   "source": []
  }
 ],
 "metadata": {
  "kernelspec": {
   "display_name": "Python 3",
   "language": "python",
   "name": "python3"
  },
  "language_info": {
   "codemirror_mode": {
    "name": "ipython",
    "version": 3
   },
   "file_extension": ".py",
   "mimetype": "text/x-python",
   "name": "python",
   "nbconvert_exporter": "python",
   "pygments_lexer": "ipython3",
   "version": "3.12.4"
  }
 },
 "nbformat": 4,
 "nbformat_minor": 2
}
